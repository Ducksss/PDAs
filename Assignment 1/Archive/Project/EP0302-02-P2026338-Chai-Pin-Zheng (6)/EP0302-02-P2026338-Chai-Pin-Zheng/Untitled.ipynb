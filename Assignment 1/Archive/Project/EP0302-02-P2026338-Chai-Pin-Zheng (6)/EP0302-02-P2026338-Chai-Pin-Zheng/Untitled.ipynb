{
 "cells": [
  {
   "cell_type": "code",
   "execution_count": 1,
   "id": "a1fe8f43",
   "metadata": {},
   "outputs": [],
   "source": [
    "import numpy as np"
   ]
  },
  {
   "cell_type": "code",
   "execution_count": 36,
   "id": "08ceeea5",
   "metadata": {},
   "outputs": [],
   "source": [
    "data = np.genfromtxt(\"sgdoctors_dataset.csv\",\n",
    "                    delimiter=\",\",\n",
    "                    names=True, dtype=(int, int, int, int, int))\n",
    "\n",
    "column = data.dtype.names"
   ]
  },
  {
   "cell_type": "code",
   "execution_count": 37,
   "id": "a0690041",
   "metadata": {},
   "outputs": [
    {
     "data": {
      "text/plain": [
       "('Year',\n",
       " 'Public_Specialist',\n",
       " 'Public_NonSpecialist',\n",
       " 'Private_Specialist',\n",
       " 'Private__NonSpecialist')"
      ]
     },
     "execution_count": 37,
     "metadata": {},
     "output_type": "execute_result"
    }
   ],
   "source": [
    "column"
   ]
  },
  {
   "cell_type": "code",
   "execution_count": 42,
   "id": "8dd727c8",
   "metadata": {},
   "outputs": [
    {
     "name": "stdout",
     "output_type": "stream",
     "text": [
      "In 2014, there are 2829 public specialist\n",
      "In 2014, there are 4501 public non specialist\n",
      "In 2014, there are 1411 private specialist\n",
      "In 2014, there are 2379 private non specialist\n"
     ]
    }
   ],
   "source": [
    "mask = (data['Year'] == 2014)\n",
    "print(\"In 2014, there are\", data[data['Year'] == 2014]['Public_Specialist'][0], \"public specialist\")\n",
    "print(\"In 2014, there are\", data[data['Year'] == 2014]['Public_NonSpecialist'][0], \"public non specialist\")\n",
    "print(\"In 2014, there are\", data[data['Year'] == 2014]['Private_Specialist'][0], \"private specialist\")\n",
    "print(\"In 2014, there are\", data[data['Year'] == 2014]['Private__NonSpecialist'][0], \"private non specialist\")"
   ]
  },
  {
   "cell_type": "code",
   "execution_count": null,
   "id": "9ae232ac",
   "metadata": {},
   "outputs": [],
   "source": [
    "Year"
   ]
  }
 ],
 "metadata": {
  "kernelspec": {
   "display_name": "Python 3",
   "language": "python",
   "name": "python3"
  },
  "language_info": {
   "codemirror_mode": {
    "name": "ipython",
    "version": 3
   },
   "file_extension": ".py",
   "mimetype": "text/x-python",
   "name": "python",
   "nbconvert_exporter": "python",
   "pygments_lexer": "ipython3",
   "version": "3.8.8"
  }
 },
 "nbformat": 4,
 "nbformat_minor": 5
}
