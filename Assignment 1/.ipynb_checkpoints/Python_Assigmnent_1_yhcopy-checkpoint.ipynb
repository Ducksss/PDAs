{
 "cells": [
  {
   "cell_type": "markdown",
   "metadata": {},
   "source": [
    "# Python Assignment 1\n",
    "\n",
    "Name: Chai Pin Zheng"
   ]
  },
  {
   "cell_type": "markdown",
   "metadata": {},
   "source": [
    "## Import relevant Libraries"
   ]
  },
  {
   "cell_type": "code",
   "execution_count": 1,
   "metadata": {},
   "outputs": [],
   "source": [
    "# Data Manipulation\n",
    "import numpy as np\n",
    "# Data Visualisation\n",
    "import matplotlib.pyplot as plt\n",
    "import pandas as pd\n",
    "# Misc\n",
    "from IPython.display import display, Markdown, Latex"
   ]
  },
  {
   "cell_type": "markdown",
   "metadata": {},
   "source": [
    "## Reading the Data\n",
    "\n",
    "all of the data file are in `.csv` format, as such I will be using `Numpy.genfromtxt` method to import the data"
   ]
  },
  {
   "cell_type": "code",
   "execution_count": 2,
   "metadata": {},
   "outputs": [],
   "source": [
    "data = np.genfromtxt(\"coe-results.csv\",\n",
    "                    delimiter=\",\",\n",
    "                    names=True, dtype=('U7', int, 'U10', int, int, int, int))\n",
    "\n",
    "data1 = np.genfromtxt(\"hospital-admissions-and-public-sector-outpatient-attendances-annual.csv\",\n",
    "                    delimiter=\",\",\n",
    "                    names=True, dtype=(int, 'U32', int))\n",
    "\n",
    "data2 = np.genfromtxt(\"hospital-admissions-by-sector-annual.csv\",\n",
    "                    delimiter=\",\",\n",
    "                    names=True, dtype=(int, 'U32', 'U10', int))\n",
    "\n",
    "data3 = np.genfromtxt(\"health-facilities-and-beds-in-inpatient-facilities.csv\",\n",
    "                    delimiter=\",\",\n",
    "                    names=True, dtype=(int, 'U21', 'U21', int, int)) \n",
    "\n",
    "data4 = pd.read_csv(\"hospital-admissions-and-public-sector-outpatient-attendances-annual.csv\")"
   ]
  },
  {
   "cell_type": "code",
   "execution_count": 4,
   "metadata": {},
   "outputs": [
    {
     "name": "stdout",
     "output_type": "stream",
     "text": [
      "***** Hospital Admissions And Public Sector Outpatient Attendances Annual CSV Results *****\n",
      "\n",
      "Within the csv\n",
      "  There are 296 rows, 3 columns in this dataset\n",
      "  There are 37 years of data captured from 1984 to 2020\n",
      "  There are 70 rows of empty data. \n",
      "\n",
      "Within each of the 3 column:\n",
      "  In the column of 'year', the data type is <class 'numpy.ndarray'>.\n",
      "  In the column of 'level_1', the data type is <class 'numpy.ndarray'>.\n",
      "  In the column of 'value', the data type is <class 'numpy.ndarray'>.\n",
      "\n",
      "Descriptive stastistics of each column:\n",
      "  The min of 'year' is 1984. The max of year is 2020. The median of year is 2002.\n",
      "  The min of 'value' is -1. The max of value is 6691295. The median of value is 1095089.\n",
      "  The column of 'level_1' is a object. We cannot perform descriptive stastistics on an object!\n",
      "\n"
     ]
    }
   ],
   "source": [
    "print(f\"***** Hospital Admissions And Public Sector Outpatient Attendances Annual CSV Results *****\")\n",
    "\n",
    "# Extracts out all the years\n",
    "data1_years = data1[\"year\"]\n",
    "year = np.unique(data1_years)\n",
    "print(f\"\\nWithin the csv\\n  There are {len(data1)} rows, {len(data1[0])} columns in this dataset\")\n",
    "print(f\"  There are {len(year)} years of data captured from {year[0]} to {year[-1]}\")\n",
    "print(f\"  There are {len(data1[data1['value'] == -1])} rows of empty data. \\n\")\n",
    "\n",
    "\n",
    "# Listing the datatype of each \"column\"\n",
    "column = data1.dtype.names\n",
    "print(f\"Within each of the {len(column)} column:\")\n",
    "for i in range(len(column)):\n",
    "    print(f\"  In the column of '{column[i]}', the data type is {type(data1[column[i]])}.\")\n",
    "    \n",
    "\n",
    "# Descriptive stastistics\n",
    "print(f\"\\nDescriptive stastistics of each column:\")\n",
    "stringError = \"\"\n",
    "for i in range(len(column)):\n",
    "    try:\n",
    "        int(data1[column[i]][0])\n",
    "        print(f\"  The min of '{column[i]}' is {data1[column[i]].min()}. The max of {column[i]} is {data1[column[i]].max()}. The median of {column[i]} is {int(data1[column[i]].mean())}.\")\n",
    "    except ValueError:\n",
    "        stringError +=(f\"  The column of '{column[i]}' is a object. We cannot perform descriptive stastistics on an object!\\n\")\n",
    "if(stringError):\n",
    "    print(stringError)"
   ]
  },
  {
   "cell_type": "markdown",
   "metadata": {},
   "source": [
    "## Descriptive Exploratory Data Analysis\n",
    "\n",
    "> touch data, feel data, love data\n",
    "\n",
    "**Things we need to look out for**\n",
    "- number of rows\n",
    "- number of columns\n",
    "- number of missing values\n",
    "- data type of each columns\n",
    "- descriptive statistics"
   ]
  },
  {
   "cell_type": "code",
   "execution_count": 5,
   "metadata": {},
   "outputs": [
    {
     "data": {
      "text/markdown": [
       "\n",
       "\n",
       "**Within this .csv**\n",
       "- There are 296 rows, 3 columns in this dataset.\n",
       "- There are 37 years of data captured from **1984** to **2020**\n",
       "- There are 70 rows of empty data.\n",
       "\n",
       "**Within each of the 3 columns:**\n",
       "\n",
       "| Column | Date Type |\n",
       "| --- | --- |\n",
       "| year | <class 'numpy.ndarray'> |\n",
       "| level_1 | <class 'numpy.ndarray'> |\n",
       "| value | <class 'numpy.ndarray'> |\n",
       "\n",
       "\n",
       "**Descriptive Statistics**\n",
       "\n",
       "| Column | Min | Median | Max |\n",
       "| --- | --- | --- | --- |\n",
       "| year | 1984 | 2002.0 | 2020 |\n",
       "| value | -1 | 494731.5 | 6691295 |\n"
      ],
      "text/plain": [
       "<IPython.core.display.Markdown object>"
      ]
     },
     "execution_count": 5,
     "metadata": {},
     "output_type": "execute_result"
    }
   ],
   "source": [
    "# retriving columns\n",
    "column = data1.dtype.names\n",
    "df=data1\n",
    "data1_years = data1[\"year\"]\n",
    "year = np.unique(data1_years)\n",
    "Markdown(f'''\n",
    "\n",
    "**Within this .csv**\n",
    "- There are {len(data1)} rows, {len(data1[0])} columns in this dataset.\n",
    "- There are {len(year)} years of data captured from **{year[0]}** to **{year[-1]}**\n",
    "- There are {len(data1[data1['value'] == -1])} rows of empty data.\n",
    "\n",
    "**Within each of the {len(column)} columns:**\n",
    "\n",
    "| Column | Date Type |\n",
    "| --- | --- |\n",
    "| {column[0]} | {type(data1[column[0]])} |\n",
    "| {column[1]} | {type(data1[column[1]])} |\n",
    "| {column[2]} | {type(data1[column[2]])} |\n",
    "\n",
    "\n",
    "**Descriptive Statistics**\n",
    "\n",
    "| Column | Min | Median | Max |\n",
    "| --- | --- | --- | --- |\n",
    "| {column[0]} | {data1[column[0]].min()} | {np.median(data1[column[0]])} | {data1[column[0]].max()} |\n",
    "| {column[2]} | {data1[column[2]].min()} | {np.median(data1[column[2]])} | {data1[column[2]].max()} |\n",
    "''')"
   ]
  },
  {
   "cell_type": "code",
   "execution_count": 6,
   "metadata": {},
   "outputs": [
    {
     "name": "stdout",
     "output_type": "stream",
     "text": [
      "***** hospital-admissions-by-sector-annual.csv Results *****\n",
      "\n",
      "Within the csv:\n",
      "  There are 222 rows, 4 columns in this dataset\n",
      "  There are 37 years of data captured from 1984 to 2020\n",
      "  There are 132 rows of empty data. \n",
      "\n",
      "Within each of the 4 column:\n",
      "  In the column of 'year', the data type is <class 'numpy.ndarray'>.\n",
      "  In the column of 'level_1', the data type is <class 'numpy.ndarray'>.\n",
      "  In the column of 'level_2', the data type is <class 'numpy.ndarray'>.\n",
      "  In the column of 'value', the data type is <class 'numpy.ndarray'>.\n",
      "\n",
      "Descriptive stastistics of each column:\n",
      "  The min of 'year' is 1984. The max of year is 2020. The median of year is 2002.\n",
      "  The min of 'value' is -1. The max of value is 483939. The median of value is 34294.\n",
      "  The column of 'level_1' is a object. We cannot perform descriptive stastistics on an object!\n",
      "  The column of 'level_2' is a object. We cannot perform descriptive stastistics on an object!\n",
      "\n"
     ]
    }
   ],
   "source": [
    "print(f\"***** hospital-admissions-by-sector-annual.csv Results *****\")\n",
    "\n",
    "# Extracts out all the years\n",
    "data2_years = data2[\"year\"]\n",
    "year = np.unique(data2_years)\n",
    "\n",
    "print(f\"\\nWithin the csv:\\n  There are {len(data2)} rows, {len(data2[0])} columns in this dataset\")\n",
    "print(f\"  There are {len(year)} years of data captured from {year[0]} to {year[-1]}\")\n",
    "print(f\"  There are {len(data2[data2['value'] == -1])} rows of empty data. \\n\")\n",
    "\n",
    "\n",
    "# Listing the datatype of each \"column\"\n",
    "column = data2.dtype.names\n",
    "print(f\"Within each of the {len(column)} column:\")\n",
    "for i in range(len(column)):\n",
    "    print(f\"  In the column of '{column[i]}', the data type is {type(data2[column[i]])}.\")\n",
    "    \n",
    "\n",
    "# Descriptive stastistics\n",
    "print(f\"\\nDescriptive stastistics of each column:\")\n",
    "stringError = \"\"\n",
    "for i in range(len(column)):\n",
    "    try:\n",
    "        int(data1[column[i]][0])\n",
    "        print(f\"  The min of '{column[i]}' is {data2[column[i]].min()}. The max of {column[i]} is {data2[column[i]].max()}. The median of {column[i]} is {int(data2[column[i]].mean())}.\")\n",
    "    except ValueError:\n",
    "        stringError +=(f\"  The column of '{column[i]}' is a object. We cannot perform descriptive stastistics on an object!\\n\")\n",
    "if(stringError):\n",
    "    print(stringError)"
   ]
  },
  {
   "cell_type": "code",
   "execution_count": null,
   "metadata": {},
   "outputs": [],
   "source": []
  },
  {
   "cell_type": "code",
   "execution_count": null,
   "metadata": {},
   "outputs": [],
   "source": []
  }
 ],
 "metadata": {
  "kernelspec": {
   "display_name": "Python 3",
   "language": "python",
   "name": "python3"
  },
  "language_info": {
   "codemirror_mode": {
    "name": "ipython",
    "version": 3
   },
   "file_extension": ".py",
   "mimetype": "text/x-python",
   "name": "python",
   "nbconvert_exporter": "python",
   "pygments_lexer": "ipython3",
   "version": "3.8.8"
  },
  "metadata": {
   "interpreter": {
    "hash": "5c3b02fa24688d32a1d09351b7f8eac82a87272ad081601c73caead00a8e1fc4"
   }
  }
 },
 "nbformat": 4,
 "nbformat_minor": 4
}
