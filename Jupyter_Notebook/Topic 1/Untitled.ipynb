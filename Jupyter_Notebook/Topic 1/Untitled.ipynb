{
 "cells": [
  {
   "cell_type": "code",
   "execution_count": 7,
   "metadata": {},
   "outputs": [
    {
     "ename": "SyntaxError",
     "evalue": "f-string: expecting '}' (<ipython-input-7-33679fe54a9e>, line 2)",
     "output_type": "error",
     "traceback": [
      "\u001b[1;36m  File \u001b[1;32m\"<ipython-input-7-33679fe54a9e>\"\u001b[1;36m, line \u001b[1;32m2\u001b[0m\n\u001b[1;33m    print(f\"{\"*\"*55}\")\u001b[0m\n\u001b[1;37m          ^\u001b[0m\n\u001b[1;31mSyntaxError\u001b[0m\u001b[1;31m:\u001b[0m f-string: expecting '}'\n"
     ]
    }
   ],
   "source": [
    "# 2-3 answer\n",
    "print(f\"{\"*\"*55}\")\n",
    "print(\"Calculate the average electricity bill for the last 6 months\")\n",
    "print(f\"{\"*\"*55}\")\n",
    "total = []\n",
    "totalSum = 0\n",
    "totalString = \"\"\n",
    "for i in range(1,7):\n",
    "    total.append(float(input(f\"Enter bill #{i}: \")))\n",
    "    totalSum += total[i-1]\n",
    "    totalString += str(f\"${total[i-1]:.2f}, \")\n",
    "\n",
    "print(f\"Your electricity bill for the past 6 months are :\\n{totalString[0:len(totalString)-2]}\\n\")\n",
    "print(f\"Your average electricity bill is ${(totalSum/len(total)):.2f}\")"
   ]
  },
  {
   "cell_type": "code",
   "execution_count": null,
   "metadata": {},
   "outputs": [],
   "source": []
  }
 ],
 "metadata": {
  "kernelspec": {
   "display_name": "Python 3",
   "language": "python",
   "name": "python3"
  },
  "language_info": {
   "codemirror_mode": {
    "name": "ipython",
    "version": 3
   },
   "file_extension": ".py",
   "mimetype": "text/x-python",
   "name": "python",
   "nbconvert_exporter": "python",
   "pygments_lexer": "ipython3",
   "version": "3.8.5"
  }
 },
 "nbformat": 4,
 "nbformat_minor": 4
}
