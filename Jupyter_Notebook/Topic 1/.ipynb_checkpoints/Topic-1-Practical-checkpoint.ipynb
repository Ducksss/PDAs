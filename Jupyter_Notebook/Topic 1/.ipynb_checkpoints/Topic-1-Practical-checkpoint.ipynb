{
 "cells": [
  {
   "cell_type": "code",
   "execution_count": 1,
   "metadata": {},
   "outputs": [],
   "source": [
    "print(\"hello world\")"
   ]
  },
  {
   "cell_type": "code",
   "execution_count": 2,
   "metadata": {},
   "outputs": [
    {
     "name": "stdout",
     "output_type": "stream",
     "text": [
      "What's your name?Chai Pin Zheng\n",
      "Hello Chai Pin Zheng\n"
     ]
    }
   ],
   "source": [
    "name = input(\"What's your name?\")\n",
    "print('Hello', name)"
   ]
  },
  {
   "cell_type": "code",
   "execution_count": 5,
   "metadata": {},
   "outputs": [
    {
     "name": "stdout",
     "output_type": "stream",
     "text": [
      "Chai Pin Zheng\n"
     ]
    }
   ],
   "source": [
    "print(name)"
   ]
  },
  {
   "cell_type": "code",
   "execution_count": 3,
   "metadata": {},
   "outputs": [
    {
     "name": "stdout",
     "output_type": "stream",
     "text": [
      "Enter length: 10\n",
      "Enter breadth:10\n",
      "Area:100\n",
      "Area: 100\n"
     ]
    }
   ],
   "source": [
    "length = int(input(\"Enter length: \"))\n",
    "breadth = int(input(\"Enter breadth:\"))\n",
    "\n",
    "print('Area:' + str(length*breadth))\n",
    "\n",
    "#Another way to print using f-string\n",
    "print(f'Area: {length*breadth}')\n"
   ]
  },
  {
   "cell_type": "code",
   "execution_count": 4,
   "metadata": {},
   "outputs": [
    {
     "name": "stdout",
     "output_type": "stream",
     "text": [
      "Enter your weight: 50\n",
      "Enter your height: 1.5\n",
      "Your bmi is 22.22222222222222\n",
      "Your bmi is 22.22\n",
      "Your Height is 1.5, weight is 50.0 and BMI is 22.2222\n"
     ]
    }
   ],
   "source": [
    "weight = float(input(\"Enter your weight: \"))\n",
    "height = float(input(\"Enter your height: \"))\n",
    "bmi = weight/(height*height)\n",
    "print(f'Your bmi is {bmi}')\n",
    "\n",
    "print(f'Your bmi is {bmi:.2f}')\n",
    "\n",
    "print(f'Your Height is {height}, weight is {weight} and BMI is {bmi:.4f}')"
   ]
  },
  {
   "cell_type": "code",
   "execution_count": null,
   "metadata": {},
   "outputs": [],
   "source": []
  }
 ],
 "metadata": {
  "kernelspec": {
   "display_name": "Python 3",
   "language": "python",
   "name": "python3"
  },
  "language_info": {
   "codemirror_mode": {
    "name": "ipython",
    "version": 3
   },
   "file_extension": ".py",
   "mimetype": "text/x-python",
   "name": "python",
   "nbconvert_exporter": "python",
   "pygments_lexer": "ipython3",
   "version": "3.8.5"
  }
 },
 "nbformat": 4,
 "nbformat_minor": 4
}
