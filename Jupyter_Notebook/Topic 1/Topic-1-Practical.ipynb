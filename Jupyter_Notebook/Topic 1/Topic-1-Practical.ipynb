{
 "cells": [
  {
   "cell_type": "markdown",
   "metadata": {},
   "source": [
    "# Slides"
   ]
  },
  {
   "cell_type": "code",
   "execution_count": null,
   "metadata": {},
   "outputs": [],
   "source": [
    "print(\"hello world\")"
   ]
  },
  {
   "cell_type": "code",
   "execution_count": null,
   "metadata": {},
   "outputs": [],
   "source": [
    "name = input(\"What's your name?\")\n",
    "print('Hello', name)"
   ]
  },
  {
   "cell_type": "code",
   "execution_count": null,
   "metadata": {},
   "outputs": [],
   "source": [
    "print(name)"
   ]
  },
  {
   "cell_type": "code",
   "execution_count": null,
   "metadata": {},
   "outputs": [],
   "source": [
    "length = int(input(\"Enter length: \"))\n",
    "breadth = int(input(\"Enter breadth:\"))\n",
    "\n",
    "print('Area:' + str(length*breadth))\n",
    "\n",
    "#Another way to print using f-string\n",
    "print(f'Area: {length*breadth:.2f}')"
   ]
  },
  {
   "cell_type": "code",
   "execution_count": null,
   "metadata": {},
   "outputs": [],
   "source": [
    "weight = float(input(\"Enter your weight: \"))\n",
    "height = float(input(\"Enter your height: \"))\n",
    "bmi = weight/(height*height)\n",
    "print(f'Your bmi is {bmi}')\n",
    "\n",
    "print(f'Your bmi is {bmi:.2f}')\n",
    "\n",
    "print(f'Your Height is {height}, weight is {weight} and BMI is {bmi:.4f}')"
   ]
  },
  {
   "cell_type": "code",
   "execution_count": null,
   "metadata": {},
   "outputs": [],
   "source": [
    "# This example shows you how to write a comment\n",
    "# The code below prompts the user to enter his current age\n",
    "# and automatically computes the year he was born\n",
    "\n",
    "age = int(input('Enter your age this year: '))\n",
    "year_of_birth = 2020 - age\n",
    "print(f\"You were born in the year {year_of_birth} \")"
   ]
  },
  {
   "cell_type": "code",
   "execution_count": 2,
   "metadata": {},
   "outputs": [
    {
     "output_type": "stream",
     "name": "stdout",
     "text": [
      "False\n350\n349\n18.693255468216336\n"
     ]
    }
   ],
   "source": [
    "import math\n",
    "\n",
    "x = 349.4378\n",
    "\n",
    "print(math.isnan(x)) # returns True if x is NOT a number\n",
    "print(math.ceil(x)) # round x upwards  output: 350\n",
    "print(math.floor(x)) # round x downwards  output: 349\n",
    "print(math.sqrt(x)) # square root of x  output: 18.693255468216336\n"
   ]
  },
  {
   "cell_type": "code",
   "execution_count": 4,
   "metadata": {},
   "outputs": [
    {
     "output_type": "stream",
     "name": "stdout",
     "text": [
      "h\ni\nhow\n"
     ]
    }
   ],
   "source": [
    "s = 'hi how are you'\n",
    "print(s[0]) # this extracts the character with index 0  h\n",
    "print(s[1])   # this extracts the character with index 1  i\n",
    "print(s[3:6])   # this extracts 3 characters from index 3 to index 5  how "
   ]
  },
  {
   "cell_type": "code",
   "execution_count": null,
   "metadata": {},
   "outputs": [],
   "source": [
    "import random\n",
    "secret_number = random.randint(1,100)\n",
    "print(secret_number)"
   ]
  },
  {
   "cell_type": "code",
   "execution_count": null,
   "metadata": {},
   "outputs": [],
   "source": [
    "from datetime import datetime\n",
    "now = datetime.now()\n",
    "print(f'Today is {now:%d-%b-%Y %H:%M}')"
   ]
  },
  {
   "cell_type": "code",
   "execution_count": null,
   "metadata": {},
   "outputs": [],
   "source": [
    "from time import sleep\n",
    "\n",
    "print(\"Hello\")\n",
    "sleep(10)\n",
    "print(\"Hello again\")"
   ]
  },
  {
   "cell_type": "code",
   "execution_count": null,
   "metadata": {},
   "outputs": [],
   "source": [
    "from time import time\n",
    "\n",
    "print('Enter your name in the quickest amount of time:')\n",
    "start = time()    # Store the current time\n",
    "\n",
    "name = input()\n",
    "reaction_time = time() - start    # Calculate how much time has passed\n",
    "\n",
    "print(f'You took {reaction_time:.2f} seconds') \n"
   ]
  },
  {
   "cell_type": "code",
   "execution_count": null,
   "metadata": {},
   "outputs": [],
   "source": [
    "from datetime import datetime\n",
    "from dateutil import relativedelta as rdelta\n",
    "\n",
    "date_of_birth = \"17-08-1973\"  # in string format\n",
    "date_of_birth = datetime.strptime(date_of_birth, '%d-%m-%Y')  # datetime format\n",
    "today = datetime.now()  # this is in datetime format\n",
    "\n",
    "# Calculate diff\n",
    "rd = rdelta.relativedelta(today,date_of_birth)\n",
    "\n",
    "print(f\"You were born on {date_of_birth:%d-%b-%Y}\")\n",
    "print(f\"{rd.years} years, {rd.months} months and {rd.days} days since you were born\")"
   ]
  },
  {
   "cell_type": "markdown",
   "metadata": {},
   "source": [
    "# Practical Questions"
   ]
  },
  {
   "cell_type": "code",
   "execution_count": null,
   "metadata": {},
   "outputs": [],
   "source": [
    "# 2-1 answer\n",
    "name = input(\"What is your name :\")\n",
    "print(\"Hello\",name)"
   ]
  },
  {
   "cell_type": "code",
   "execution_count": null,
   "metadata": {},
   "outputs": [],
   "source": [
    "# 2-2 answer\n",
    "weight = float(input((\"Enter your weight: \")))\n",
    "height = float(input((\"Enter your height: \")))\n",
    "print(\"Your BMI is:\" + str(weight(height*height)))"
   ]
  },
  {
   "cell_type": "code",
   "execution_count": 1,
   "metadata": {},
   "outputs": [
    {
     "output_type": "stream",
     "name": "stdout",
     "text": [
      "************************************************************\n",
      "Calculate the average electricity bill for the last 6 months\n",
      "************************************************************\n",
      "\n",
      "Your electricity bill for the past 6 months are :\n",
      "$23.00, $23.00, $23.00, $24.00, $24.00, $24.00\n",
      "\n",
      "Your average electricity bill is $23.50\n"
     ]
    }
   ],
   "source": [
    "# 2-3 answer\n",
    "print(\"*\"*60 + \"\\nCalculate the average electricity bill for the last 6 months\\n\" + \"*\"*60)\n",
    "totalSum = 0\n",
    "totalCount = 0\n",
    "totalString = \"\"\n",
    "for i in range(1,7):\n",
    "    total = (float(input(f\"Enter bill #{i}: \")))\n",
    "    totalSum += total\n",
    "    totalCount = i\n",
    "    totalString += str(f\"${total:.2f}, \")\n",
    "\n",
    "print(f\"\\nYour electricity bill for the past 6 months are :\\n{totalString[0:len(totalString)-2]}\\n\")\n",
    "print(f\"Your average electricity bill is ${(totalSum/totalCount):.2f}\")"
   ]
  },
  {
   "cell_type": "code",
   "execution_count": null,
   "metadata": {},
   "outputs": [],
   "source": [
    "# 2-3 answer\n",
    "print(\"*\"*60 + \"\\nCalculate the average electricity bill for the last 6 months\\n\" + \"*\"*60)\n",
    "totalSum = 0\n",
    "totalCount = 0\n",
    "totalString = \"\"\n",
    "for i in range(0, 6):\n",
    "    total = float(input(f\"Enter bill #{i+1}: \"))\n",
    "    totalSum += total\n",
    "    totalCount = i + 1\n",
    "    totalString += str(f\"${total:.2f}, \")\n",
    "\n",
    "print(totalCount)\n",
    "print(f\"Your electricity bill for the past {totalCount} months are :\\n{totalString[0:len(totalString)-2]}\\n\")\n",
    "print(f\"Your average electricity bill is ${(totalSum/totalCount):.2f}\")"
   ]
  },
  {
   "cell_type": "code",
   "execution_count": null,
   "metadata": {},
   "outputs": [],
   "source": [
    "# 3-1 answer \n",
    "from time import sleep\n",
    "\n",
    "time_to_wait = int(input(\"Enter the number of seconds to count down: \"))\n",
    "print(f\"Let's count down {time_to_wait} seconds now...\")\n",
    "sleep(time_to_wait)\n",
    "print(\"Time is up!\")"
   ]
  },
  {
   "cell_type": "code",
   "execution_count": null,
   "metadata": {},
   "outputs": [],
   "source": [
    "# 3-2 answer\n",
    "from time import time\n",
    "\n",
    "print('Timer starts now! Press any key as quickly as possible: ')\n",
    "# stores the current time\n",
    "time_now = time()\n",
    "\n",
    "user_input = input()\n",
    "# stores the time for people to enter\n",
    "time_entered = time()\n",
    "\n",
    "# calc time diff\n",
    "time_response = time() - time_now    # Calculate how much time has passed\n",
    "\n",
    "print(f'You took {time_entered} seconds to type {user_input}') "
   ]
  },
  {
   "cell_type": "code",
   "execution_count": null,
   "metadata": {},
   "outputs": [],
   "source": [
    "# 4-1 answer\n",
    "n1 = int(input(\"Enter number 1: \"))\n",
    "n2 = int(input(\"Enter number 2: \"))\n",
    "n3 = int(input(\"Enter number 3: \"))\n",
    "n4 = int(input(\"Enter number 4: \"))\n",
    "sum = n1 + n2 + n3 + n4\n",
    "difference = n1 - n4\n",
    "product = n2 * n3\n",
    "quotient = (n1 + n2)/(n3 + n4)\n",
    "remainder = (n1 * n2) % (n3 * n4)\n",
    "power = n1**n2\n",
    "\n",
    "print(f\"The four numbers are {n1} {n2} {n3} {n4}\")\n",
    "print(f\"Sum is {sum}\")\n",
    "print(f\"Difference is {difference}\")\n",
    "print(f\"Product is {product}\")\n",
    "print(f\"Quotient is {quotient}\")\n",
    "print(f\"Remainder is {remainder}\")\n",
    "print(f\"Power is {power}\")"
   ]
  },
  {
   "cell_type": "code",
   "execution_count": null,
   "metadata": {},
   "outputs": [],
   "source": [
    "# 4-2 answer\n",
    "import math\n",
    "print(\"*\"*60 + \"\\nMathematical calculations with Python\\n\" + 60*\"*\" +\"\\n\\n\")\n",
    "\n",
    "n1 = float(input(\"Enter number 1:\"))\n",
    "n2 = float(input(\"Enter number 2:\"))\n",
    "n3 = float(input(\"Enter number 3:\"))\n",
    "n4 = float(input(\"Enter number 4:\"))\n",
    "n1_squareroot = math.sqrt(n1)\n",
    "n2_times_pi = math.pi * n2\n",
    "n3_powerof_n1 = math.pow(n3, n1)\n",
    "n4_factorial = math.factorial(n4)\n",
    "n4n3 = n4_factorial / n3\n",
    "\n",
    "print(f\"The square root of {n1} is {n1_squareroot}\")\n",
    "print(f\"The ceiling value of n1_squareroot is {math.ceil(n1_squareroot)}\")\n",
    "\n",
    "print(f\"\\n{n2} times {math.pi} is {n2_times_pi}\")\n",
    "print(f\"The truncated value of n2_times_pi is {math.trunc(n2_times_pi)}\")\n",
    "\n",
    "print(f\"\\n{n3} to the power of {n1} is {n3_powerof_n1}\")\n",
    "print(f\"The floor value of n3_powerof_n1 is {math.floor(n3_powerof_n1)}\")\n",
    "\n",
    "print(f\"\\n{n4} factorial is {n4_factorial}\")\n",
    "print(f\"{n4_factorial} divided by {n3} is {n4n3}\")\n",
    "print(f\"The fractional value of the result is {math.modf(n4n3)[0]}\")\n",
    "print(f\"The integer value of the result is {math.modf(n4n3)[1]}\")"
   ]
  },
  {
   "cell_type": "code",
   "execution_count": null,
   "metadata": {},
   "outputs": [],
   "source": [
    "#s1 = \"Mary had a little lamb\"\n",
    "#s2 = \"To be or not to be\"\n",
    "#s3 = \"that is the question\"\n",
    "s1 = input(\"Enter string 1\")\n",
    "s2 = input(\"Enter string 2\")\n",
    "s3 = input(\"Enter string 3\")\n",
    "print(f\"Length of string 1 {s1} is {len(s1)}\")\n",
    "print(f\"Length of string 2 {s2} is {len(s2)}\")\n",
    "print(f\"Length of string 3 {s3} is {len(s3)}\")\n",
    "print(f\"String 1 in all caps {s1.upper()}\")\n",
    "if (\"a\" in s2):\n",
    "    print(f\"The letter a is found in {s2}\")\n",
    "else :\n",
    "    print(f\"The letter a is not found in {s2}\")\n",
    "print(f\"The first two character of {s3} is {s3[0:2]}\")"
   ]
  },
  {
   "cell_type": "code",
   "execution_count": null,
   "metadata": {},
   "outputs": [],
   "source": [
    "# 5-2 answer\n",
    "stringValue = input(\"Enter 3 random strings, separated by commas: \")\n",
    "\n",
    "[s1, s2 ,s3] = stringValue.split(\",\")\n",
    "\n",
    "print(f\"\\ns1 is {s1}\")\n",
    "print(f\"Length of {s1} is {len(s1)}\")\n",
    "print(f\"2nd and 3rd characters of {s1} is {s1[1:3]}\")\n",
    "\n",
    "print(f\"\\ns2 is {s2}\")\n",
    "print(f\"Length of {s2} is {len(s2)}\")\n",
    "print(f\"5th and 7th characters of {s2} is {s2[4:7]}\")\n",
    "\n",
    "print(f\"\\ns3 is {s3}\")\n",
    "print(f\"Length of {s3} is {len(s3)}\")\n",
    "print(f\"Last two characters of {s3} is {s3[len(s3)-2:len(s3)]}\")"
   ]
  },
  {
   "cell_type": "code",
   "execution_count": null,
   "metadata": {},
   "outputs": [],
   "source": [
    "# 6-1 answers\n",
    "print(\"*\"*60 + \"\\nSection 6 - if-else statement\\n\" + 60*\"*\" +\"\\n\\n\")\n",
    "\n",
    "userInput = input(\"Enter a number: \")\n",
    "if (userInput.isnumeric()):\n",
    "    if(int(userInput)%2==0):\n",
    "        print(f\"{userInput} is even\")\n",
    "    else:\n",
    "        print(f\"{userInput} is odd\")\n",
    "else:\n",
    "    print(\"You did not enter a number\")"
   ]
  },
  {
   "cell_type": "code",
   "execution_count": null,
   "metadata": {},
   "outputs": [],
   "source": [
    "# 6-2 answers\n",
    "menu = {1: ('SPMuffin', 5.00), 2: ('SPanCakes', 3.00), 3: ('SPHashbrown', 1.50)}\n",
    "\n",
    "print(\"Welcome to SPdonalds!\\nBelow is our Breakfast menu:\\n\" + \"1.SPMuffin ($5.00) 2.SPancakes ($3.00) 3.SPHashbrown ($1.50)\")\n",
    "userInput = input(\"Enter your choice food:\")\n",
    "\n",
    "if(userInput.isnumeric()):\n",
    "    userIntInput = int(userInput)\n",
    "    if(userIntInput in menu):\n",
    "        print(f'{menu.get(userIntInput)[0]} ${menu.get(userIntInput)[1]:.2f} added!')\n",
    "        numberOfOrders = int(input(f\"How many {menu.get(userIntInput)[0]} do you want to order? \"))\n",
    "        print(f'The total cost for {menu.get(userIntInput)[0]} is ${numberOfOrders * menu.get(userIntInput)[1]:.2f}')\n",
    "    else:\n",
    "        print(\"Sorry, you have entered an invalid choice. Exiting program...\")\n",
    "else:\n",
    "    print(\"Please key in an actual number!\")\n",
    "    \n",
    "    #object that has a method to return the next member, internally has a counter. next time it just +1 so the next function will\n",
    "    #return the val"
   ]
  },
  {
   "cell_type": "code",
   "execution_count": null,
   "metadata": {
    "scrolled": true
   },
   "outputs": [],
   "source": [
    "# 7-1 answers\n",
    "userMessage = input(\"Enter the message your want to repeat: \")\n",
    "numberOfLoops = int(input(\"Enter the number of times you want to repeat this message: \"))\n",
    "\n",
    "for i in range(0,numberOfLoops):\n",
    "    print(userMessage)"
   ]
  },
  {
   "cell_type": "code",
   "execution_count": 12,
   "metadata": {},
   "outputs": [
    {
     "name": "stdout",
     "output_type": "stream",
     "text": [
      "This program prints the sum of a range of numbers from x to y\n",
      "For example,if x is 10 and y is 50, the program will print the sum of numbers from 10 to 50\n",
      "Please enter the value of x: -5\n",
      "Please enter the value of y: -3\n",
      "The sum of numbers between -5 and -3 is -12\n"
     ]
    }
   ],
   "source": [
    "# 7-2 answers\n",
    "print(f'This program prints the sum of a range of numbers from x to y\\nFor example,if x is 10 and y is 50, the program will print the sum of numbers from 10 to 50')\n",
    "x = input(\"Please enter the value of x: \")\n",
    "y = input(\"Please enter the value of y: \")\n",
    "\n",
    "if x.strip('-').isnumeric() and y.strip('-').isnumeric():\n",
    "    x = int(x)\n",
    "    y = int(y)\n",
    "    if (x == 0 or y == 0):\n",
    "        print(\"One or more of your inputs are not greater than zero!\\nUnable to continue. Program terminated.\")\n",
    "    elif(x > y):\n",
    "        print(\"You did not enter a value of y that is greater than x\\nUnable to continue. Program terminated.\")\n",
    "    else:\n",
    "        sum_of_numbers = 0\n",
    "        for i in range (x, y + 1):\n",
    "            sum_of_numbers += i\n",
    "        print(f\"The sum of numbers between {x} and {y} is {sum_of_numbers}\")\n",
    "else:\n",
    "    print(\"One or more of your inputs are not numeric!\\nUnable to continue. Program terminated.\")"
   ]
  },
  {
   "cell_type": "code",
   "execution_count": null,
   "metadata": {},
   "outputs": [],
   "source": [
    "# 8-1 answers\n",
    "from time import sleep\n",
    "\n",
    "userInput = int(input(\"Enter the number of seconds to count down: \"))\n",
    "while(userInput != 0):\n",
    "    sleep(1)\n",
    "    userInput += - 1\n",
    "    print(f'{userInput} seconds till the timer expires')\n",
    "\n",
    "print(\"Time is up!\")"
   ]
  },
  {
   "cell_type": "code",
   "execution_count": 3,
   "metadata": {},
   "outputs": [
    {
     "name": "stdout",
     "output_type": "stream",
     "text": [
      "This program will generate a random number between a lower limit and upper limit fo your choice:\n",
      "Enter the lower limit: 1\n",
      "Enter the upper limit: 2\n",
      "Enter your guess (1 to 2): 1\n",
      "You are right!\n"
     ]
    }
   ],
   "source": [
    "# 8-2\n",
    "import random\n",
    "\n",
    "print(\"This program will generate a random number between a lower limit and upper limit fo your choice:\")\n",
    "lower_limit = int(input(\"Enter the lower limit: \"))\n",
    "upper_limit = int(input(\"Enter the upper limit: \"))\n",
    "secret_number = random.randint(lower_limit,upper_limit)\n",
    "\n",
    "user_guess = int(input(f\"Enter your guess ({lower_limit} to {upper_limit}): \"))\n",
    "while(user_guess != secret_number):\n",
    "    if(user_guess > secret_number):\n",
    "        print(\"Too high\")\n",
    "    else:\n",
    "        print(\"Too low\")\n",
    "        \n",
    "    user_guess = int(input(f\"Enter your guess ({lower_limit} to {upper_limit}): \"))\n",
    "    \n",
    "print(\"You are right!\")"
   ]
  },
  {
   "cell_type": "code",
   "execution_count": 2,
   "metadata": {},
   "outputs": [
    {
     "name": "stdout",
     "output_type": "stream",
     "text": [
      "Item less than 5 are \n",
      "1\n",
      "1\n",
      "2\n",
      "3\n",
      "\n"
     ]
    }
   ],
   "source": [
    "# 9-1 Lists\n",
    "aList = [1, 1, 2, 3, 5, 8, 13, 21, 34, 55, 89]\n",
    "stringList = \"\\n\"\n",
    "for number in aList:\n",
    "    if(number < 5):\n",
    "        stringList += str(number) + \"\\n\"\n",
    "\n",
    "print(f'Item less than 5 are {stringList}')"
   ]
  },
  {
   "cell_type": "code",
   "execution_count": 1,
   "metadata": {},
   "outputs": [
    {
     "name": "stdout",
     "output_type": "stream",
     "text": [
      "Enter number 1: 1\n",
      "Enter number 2: 2\n",
      "Enter number 3: 3\n",
      "Enter number 4: 4\n",
      "Enter number 5: 5\n",
      "Maximum of the numbers is 5\n",
      "Minimum of the numbers is 1\n",
      "The original list is [1, 2, 3, 4, 5]\n",
      "The sorted list in reverse order is [5, 4, 3, 2, 1]\n"
     ]
    }
   ],
   "source": [
    "# 9-2 Lists (max, min, sorted, reverse)\n",
    "list = []\n",
    "for i in range(0,5):\n",
    "    list.append(int(input(f\"Enter number {i+1}: \")))\n",
    "\n",
    "maximum = list[0]\n",
    "minimum = list[0]\n",
    "\n",
    "for number in list:\n",
    "    if(number > maximum):\n",
    "        maximum = number\n",
    "    \n",
    "    if(minimum > number):\n",
    "        minimum = number\n",
    "        \n",
    "    \n",
    "        \n",
    "print(f\"Maximum of the numbers is {maximum}\")\n",
    "print(f\"Minimum of the numbers is {minimum}\")\n",
    "print(f\"The original list is {list}\")\n",
    "list.sort()\n",
    "print(f\"The sorted list in reverse order is {list[::-1]}\")"
   ]
  },
  {
   "cell_type": "code",
   "execution_count": 15,
   "metadata": {},
   "outputs": [
    {
     "name": "stdout",
     "output_type": "stream",
     "text": [
      "[800, 74, 33]\n",
      "['Papaya', 'Watermelon']\n",
      "[1.1, 2.2, 3.3, 4.4, 5.5, 6.6, 7.7, 8.8]\n"
     ]
    }
   ],
   "source": [
    " #9-3: List Slicing (SUBMISSION REQUIRED)\n",
    "list_1 = [300, 50, 80, 90, 199, 800, 74, 33]\n",
    "list_2 = ['Apple', 'Banana', 'Durian', 'Grapes', 'Papaya', 'Watermelon']\n",
    "list_3 = [0.0, 1.1, 2.2, 3.3, 4.4, 5.5, 6.6, 7.7, 8.8, 9.9]\n",
    "\n",
    "print(f'{list_1[len(list_1)-3:len(list_1)]}')\n",
    "print(f'{list_2[len(list_2)-2:len(list_2)]}')\n",
    "print(f'{list_3[1:len(list_3)-1]}')"
   ]
  },
  {
   "cell_type": "code",
   "execution_count": 8,
   "metadata": {},
   "outputs": [
    {
     "name": "stdout",
     "output_type": "stream",
     "text": [
      "Original list: [24, 27, 98, 12, 57, 77, 14, 60, 11, 55, 18, 28, 22, 83, 28, 75, 51, 20, 44, 5]\n",
      "Even: [24, 98, 12, 14, 60, 18, 28, 22, 28, 20, 44]\n",
      "Odd: [27, 57, 77, 11, 55, 83, 75, 51, 5]\n"
     ]
    }
   ],
   "source": [
    " #10-2: Odd and Even (SUBMISSION REQUIRED)\n",
    "import random\n",
    "    \n",
    "original_list = [random.randint(1,100) for x in range(0,20)]\n",
    "\n",
    "def oddandeven(numbers_list):\n",
    "    even_numbers =[]\n",
    "    odd_numbers=[]\n",
    "    for number in original_list:\n",
    "        if(number % 2 == 0):\n",
    "            even_numbers.append(number)\n",
    "        else:\n",
    "            odd_numbers.append(number)\n",
    "\n",
    "    return even_numbers, odd_numbers\n",
    "    \n",
    "[d1, d2] = oddandeven(original_list)\n",
    "print(\"Original list:\",original_list)\n",
    "print(\"Even:\",d1)\n",
    "print(\"Odd:\",d2)"
   ]
  },
  {
   "cell_type": "code",
   "execution_count": 10,
   "metadata": {},
   "outputs": [
    {
     "output_type": "stream",
     "name": "stdout",
     "text": [
      "[1, 2, 3, 4, 5, 6]\n"
     ]
    }
   ],
   "source": [
    "list1 = [1, 2, 3]\n",
    "list2 = [4, 5, 6]\n",
    "list3 = [7, 8, 9]\n",
    "print(list1+list2)"
   ]
  },
  {
   "cell_type": "code",
   "execution_count": 17,
   "metadata": {},
   "outputs": [
    {
     "output_type": "stream",
     "name": "stdout",
     "text": [
      "1\n"
     ]
    }
   ],
   "source": [
    "import numpy as np\n",
    "sudo = np.array([[1, 2, 3],\n",
    "                 [4, 5, 6], \n",
    "                 [7, 8, 9]])\n",
    "print(sudo[0][0])"
   ]
  },
  {
   "cell_type": "code",
   "execution_count": 23,
   "metadata": {},
   "outputs": [
    {
     "output_type": "stream",
     "name": "stdout",
     "text": [
      "[ 1  2  3  4  5  6  7  8  9 10]\n[['Blue' 'Red' 'Yellow']\n ['Cyan' 'Green' 'Magenta']]\n"
     ]
    }
   ],
   "source": [
    "import numpy as np\n",
    "\n",
    "# Create 2 arrays with different data types, shapes and sizes\n",
    "a = np.array([10,2,8,4,6,1,5,9,3,7])\n",
    "b = np.array([(\"Red\",\"Blue\",\"Yellow\"),(\"Green\",\"Cyan\",\"Magenta\")])\n",
    "\n",
    "a.sort()\n",
    "b.sort(axis=1)#column\n",
    "\n",
    "print(a)\n",
    "print(b)"
   ]
  },
  {
   "cell_type": "code",
   "execution_count": 26,
   "metadata": {},
   "outputs": [
    {
     "output_type": "stream",
     "name": "stdout",
     "text": [
      "[ True  True  True  True  True]\n",
      "<ipython-input-26-b0ad7e7a2958>:1: DeprecationWarning: `np.bool` is a deprecated alias for the builtin `bool`. To silence this warning, use `bool` by itself. Doing this will not modify any behavior and is safe. If you specifically wanted the numpy scalar type, use `np.bool_` here.\n",
      "Deprecated in NumPy 1.20; for more details and guidance: https://numpy.org/devdocs/release/1.20.0-notes.html#deprecations\n",
      "  c = np.array([1,2,3,4,5],dtype=np.bool)\n"
     ]
    }
   ],
   "source": [
    "c = np.array([1,2,3,4,5],dtype=np.bool)\n",
    "print(c)"
   ]
  },
  {
   "cell_type": "code",
   "execution_count": 27,
   "metadata": {},
   "outputs": [
    {
     "output_type": "stream",
     "name": "stdout",
     "text": [
      "(3,)\n(2, 3)\n(2, 2, 4)\n"
     ]
    }
   ],
   "source": [
    "import numpy as np\n",
    "\n",
    "# Create 3 arrays with different shapes\n",
    "a = np.array([1,2,3])\n",
    "b = np.array([(1,2,3),(4,5,6)])\n",
    "c = np.array([[(1,2,3,4),(5,6,7,8)], [(9,10,11,12),(13,14,15,16)]])\n",
    "\n",
    "#shape returns the number of elements in each dimension\n",
    "print(a.shape)\n",
    "\n",
    "print(b.shape)\n",
    "\n",
    "print(c.shape)\n"
   ]
  },
  {
   "cell_type": "code",
   "execution_count": 29,
   "metadata": {},
   "outputs": [
    {
     "output_type": "stream",
     "name": "stdout",
     "text": [
      "[1 2 3 4 5 6]\n\n"
     ]
    },
    {
     "output_type": "error",
     "ename": "ValueError",
     "evalue": "cannot reshape array of size 6 into shape (3,3)",
     "traceback": [
      "\u001b[1;31m---------------------------------------------------------------------------\u001b[0m",
      "\u001b[1;31mValueError\u001b[0m                                Traceback (most recent call last)",
      "\u001b[1;32m<ipython-input-29-c755319fb958>\u001b[0m in \u001b[0;36m<module>\u001b[1;34m\u001b[0m\n\u001b[0;32m      4\u001b[0m \u001b[0mprint\u001b[0m\u001b[1;33m(\u001b[0m\u001b[0mmy_array\u001b[0m\u001b[1;33m)\u001b[0m\u001b[1;33m\u001b[0m\u001b[1;33m\u001b[0m\u001b[0m\n\u001b[0;32m      5\u001b[0m \u001b[0mprint\u001b[0m\u001b[1;33m(\u001b[0m\u001b[1;33m)\u001b[0m\u001b[1;33m\u001b[0m\u001b[1;33m\u001b[0m\u001b[0m\n\u001b[1;32m----> 6\u001b[1;33m \u001b[0mprint\u001b[0m\u001b[1;33m(\u001b[0m\u001b[0mnumpy\u001b[0m\u001b[1;33m.\u001b[0m\u001b[0mreshape\u001b[0m\u001b[1;33m(\u001b[0m\u001b[0mmy_array\u001b[0m\u001b[1;33m,\u001b[0m\u001b[1;33m(\u001b[0m\u001b[1;36m3\u001b[0m\u001b[1;33m,\u001b[0m\u001b[1;36m3\u001b[0m\u001b[1;33m)\u001b[0m\u001b[1;33m)\u001b[0m\u001b[1;33m)\u001b[0m\u001b[1;33m\u001b[0m\u001b[1;33m\u001b[0m\u001b[0m\n\u001b[0m",
      "\u001b[1;32m<__array_function__ internals>\u001b[0m in \u001b[0;36mreshape\u001b[1;34m(*args, **kwargs)\u001b[0m\n",
      "\u001b[1;32m~\\anaconda3\\lib\\site-packages\\numpy\\core\\fromnumeric.py\u001b[0m in \u001b[0;36mreshape\u001b[1;34m(a, newshape, order)\u001b[0m\n\u001b[0;32m    297\u001b[0m            [5, 6]])\n\u001b[0;32m    298\u001b[0m     \"\"\"\n\u001b[1;32m--> 299\u001b[1;33m     \u001b[1;32mreturn\u001b[0m \u001b[0m_wrapfunc\u001b[0m\u001b[1;33m(\u001b[0m\u001b[0ma\u001b[0m\u001b[1;33m,\u001b[0m \u001b[1;34m'reshape'\u001b[0m\u001b[1;33m,\u001b[0m \u001b[0mnewshape\u001b[0m\u001b[1;33m,\u001b[0m \u001b[0morder\u001b[0m\u001b[1;33m=\u001b[0m\u001b[0morder\u001b[0m\u001b[1;33m)\u001b[0m\u001b[1;33m\u001b[0m\u001b[1;33m\u001b[0m\u001b[0m\n\u001b[0m\u001b[0;32m    300\u001b[0m \u001b[1;33m\u001b[0m\u001b[0m\n\u001b[0;32m    301\u001b[0m \u001b[1;33m\u001b[0m\u001b[0m\n",
      "\u001b[1;32m~\\anaconda3\\lib\\site-packages\\numpy\\core\\fromnumeric.py\u001b[0m in \u001b[0;36m_wrapfunc\u001b[1;34m(obj, method, *args, **kwds)\u001b[0m\n\u001b[0;32m     56\u001b[0m \u001b[1;33m\u001b[0m\u001b[0m\n\u001b[0;32m     57\u001b[0m     \u001b[1;32mtry\u001b[0m\u001b[1;33m:\u001b[0m\u001b[1;33m\u001b[0m\u001b[1;33m\u001b[0m\u001b[0m\n\u001b[1;32m---> 58\u001b[1;33m         \u001b[1;32mreturn\u001b[0m \u001b[0mbound\u001b[0m\u001b[1;33m(\u001b[0m\u001b[1;33m*\u001b[0m\u001b[0margs\u001b[0m\u001b[1;33m,\u001b[0m \u001b[1;33m**\u001b[0m\u001b[0mkwds\u001b[0m\u001b[1;33m)\u001b[0m\u001b[1;33m\u001b[0m\u001b[1;33m\u001b[0m\u001b[0m\n\u001b[0m\u001b[0;32m     59\u001b[0m     \u001b[1;32mexcept\u001b[0m \u001b[0mTypeError\u001b[0m\u001b[1;33m:\u001b[0m\u001b[1;33m\u001b[0m\u001b[1;33m\u001b[0m\u001b[0m\n\u001b[0;32m     60\u001b[0m         \u001b[1;31m# A TypeError occurs if the object does have such a method in its\u001b[0m\u001b[1;33m\u001b[0m\u001b[1;33m\u001b[0m\u001b[1;33m\u001b[0m\u001b[0m\n",
      "\u001b[1;31mValueError\u001b[0m: cannot reshape array of size 6 into shape (3,3)"
     ]
    }
   ],
   "source": [
    "import numpy\n",
    "\n",
    "my_array = numpy.array([1,2,3,4,5,6])\n",
    "print(my_array)\n",
    "print()\n",
    "print(numpy.reshape(my_array,(3,3)))\n"
   ]
  },
  {
   "cell_type": "code",
   "execution_count": 31,
   "metadata": {},
   "outputs": [
    {
     "output_type": "stream",
     "name": "stdout",
     "text": [
      "[[10 20 30]\n [40 50 60]]\n[[1 2 3]\n [4 5 6]]\n[[11 22 33]\n [44 55 66]]\n[[ 9 18 27]\n [36 45 54]]\n[[ 10  40  90]\n [160 250 360]]\n[[10. 10. 10.]\n [10. 10. 10.]]\n[[0 0 0]\n [0 0 0]]\n"
     ]
    }
   ],
   "source": [
    "import numpy as np\n",
    "\n",
    "x = np.array(([10,20,30], [40,50,60]))\n",
    "y = np.array(([1,2,3], [4,5,6]))\n",
    "\n",
    "print(x)\n",
    "print(y)\n",
    "print(x+y)\n",
    "print(x-y)\n",
    "print(x*y)\n",
    "print(x/y)\n",
    "print(x%y)\n",
    "\n",
    "\n",
    "\n"
   ]
  },
  {
   "cell_type": "code",
   "execution_count": 32,
   "metadata": {},
   "outputs": [
    {
     "output_type": "stream",
     "name": "stdout",
     "text": [
      "[0 2 4]\n"
     ]
    }
   ],
   "source": [
    "import numpy as np\n",
    "\n",
    "a = np.arange(6).reshape(2,3)\n",
    "b = a % 2 == 0\n",
    "a = a[b]\n",
    "\n",
    "print(a)\n"
   ]
  },
  {
   "cell_type": "code",
   "execution_count": 34,
   "metadata": {},
   "outputs": [
    {
     "output_type": "stream",
     "name": "stdout",
     "text": [
      "[ 3  7 11]\n"
     ]
    }
   ],
   "source": [
    "import numpy as np\n",
    "\n",
    "# Create an array with 0 to 23 and reshape it into a 2x3x4 array\u000b# Think of it as an Excel workbook with 2 worksheets\n",
    "# Each worksheet has 3 rows,4 columns\n",
    "b = np.arange(24).reshape(2,3,4)\n",
    "print(b[0,:,-1])  #3 7 11\n"
   ]
  },
  {
   "cell_type": "code",
   "execution_count": 49,
   "metadata": {},
   "outputs": [
    {
     "output_type": "stream",
     "name": "stdout",
     "text": [
      "We are now in year 2021\nYou were born in the year 1989\n"
     ]
    }
   ],
   "source": [
    "import datetime\n",
    "age = int(input(\"Enter your age\"))\n",
    "\n",
    "today = datetime.datetime.today()\n",
    "print(\"We are now in year {}\".format(today.year))\n",
    "yearofbirth= today.year - age\n",
    "print(\"You were born in the year {}\".format(yearofbirth))"
   ]
  },
  {
   "cell_type": "code",
   "execution_count": 37,
   "metadata": {},
   "outputs": [
    {
     "output_type": "stream",
     "name": "stdout",
     "text": [
      "73.0\n"
     ]
    }
   ],
   "source": [
    "spam = \"7\"\n",
    "spam = spam + \"0\"\n",
    "eggs = int(spam)+3\n",
    "print(float(eggs))"
   ]
  },
  {
   "cell_type": "code",
   "execution_count": 39,
   "metadata": {},
   "outputs": [
    {
     "output_type": "stream",
     "name": "stdout",
     "text": [
      "Image1\nImage2\nImage3\nImage4\nImage5\nImage6\nImage7\nImage8\nImage9\nImage10\n"
     ]
    }
   ],
   "source": [
    "for i in range(1,11):\n",
    "    print(\"Image{}\".format(i))"
   ]
  },
  {
   "cell_type": "code",
   "execution_count": 41,
   "metadata": {},
   "outputs": [
    {
     "output_type": "stream",
     "name": "stdout",
     "text": [
      "HelloHello\n"
     ]
    }
   ],
   "source": [
    "def myFunction(s):\n",
    "    s = s*2\n",
    "    return s\n",
    "\n",
    "\n",
    "print(myFunction(\"Hello\"))"
   ]
  },
  {
   "cell_type": "code",
   "execution_count": 42,
   "metadata": {},
   "outputs": [
    {
     "output_type": "stream",
     "name": "stdout",
     "text": [
      "HelloHello\n"
     ]
    }
   ],
   "source": [
    "def myFunction(s):\n",
    "    s = s*2\n",
    "    return s\n",
    "\n",
    "\n",
    "print(myFunction(\"Hello\"))"
   ]
  },
  {
   "cell_type": "code",
   "execution_count": 43,
   "metadata": {},
   "outputs": [
    {
     "output_type": "stream",
     "name": "stdout",
     "text": [
      "HelloHello\n"
     ]
    }
   ],
   "source": [
    "def myFunction(s):\n",
    "    s = s*2\n",
    "    return s\n",
    "\n",
    "\n",
    "print(myFunction(\"Hello\"))"
   ]
  },
  {
   "cell_type": "code",
   "execution_count": 45,
   "metadata": {},
   "outputs": [
    {
     "output_type": "stream",
     "name": "stdout",
     "text": [
      "[20 22 24 26 28]\n"
     ]
    }
   ],
   "source": [
    "import numpy as np\n",
    "\n",
    "list1 = np.arange(20,30,2)\n",
    "print(list1)"
   ]
  },
  {
   "cell_type": "code",
   "execution_count": 47,
   "metadata": {},
   "outputs": [
    {
     "output_type": "stream",
     "name": "stdout",
     "text": [
      "Hi\n"
     ]
    }
   ],
   "source": [
    "def shortest_string(x,y):\n",
    "    if len(x) <= len(y):\n",
    "        return x\n",
    "    else:\n",
    "        return y\n",
    "\n",
    "s1 = \"Hello\"\n",
    "s2= \"Hi\"\n",
    "\n",
    "print(shortest_string(s1,s2))  # Prints Hi"
   ]
  },
  {
   "cell_type": "code",
   "execution_count": 48,
   "metadata": {},
   "outputs": [
    {
     "output_type": "stream",
     "name": "stdout",
     "text": [
      "[ 9 16 25 36]\n"
     ]
    }
   ],
   "source": [
    "import numpy as np\n",
    "\n",
    "s = np.arange(13)**2\n",
    "print(s[3:7])"
   ]
  },
  {
   "cell_type": "code",
   "execution_count": 56,
   "metadata": {},
   "outputs": [
    {
     "output_type": "stream",
     "name": "stdout",
     "text": [
      "Fail\nMerit\nPass\nDistinction\n"
     ]
    }
   ],
   "source": [
    "\n",
    "def getGrade(marks):\n",
    "    if marks>=80:\n",
    "        return 'Distinction'\n",
    "    elif marks>=70:\n",
    "        return 'Merit'\n",
    "    elif marks >= 50:\n",
    "       return 'Pass'\n",
    "    else:\n",
    "       return 'Fail'\n",
    "\n",
    "print(getGrade(30)) # Prints Fail\n",
    "print(getGrade(75)) # Prints Merit\n",
    "print(getGrade(50)) # Prints Pass\n",
    "print(getGrade(83)) # Prints Distinction\n",
    "\n"
   ]
  },
  {
   "cell_type": "code",
   "execution_count": 57,
   "metadata": {},
   "outputs": [
    {
     "output_type": "stream",
     "name": "stdout",
     "text": [
      "be o\n"
     ]
    }
   ],
   "source": [
    "str = \"To be or not to be, that is the question\"\n",
    "\n",
    "print(str[3:7])"
   ]
  },
  {
   "cell_type": "code",
   "execution_count": null,
   "metadata": {},
   "outputs": [],
   "source": []
  }
 ],
 "metadata": {
  "kernelspec": {
   "name": "python3",
   "display_name": "Python 3.8.8 64-bit ('base': conda)"
  },
  "language_info": {
   "codemirror_mode": {
    "name": "ipython",
    "version": 3
   },
   "file_extension": ".py",
   "mimetype": "text/x-python",
   "name": "python",
   "nbconvert_exporter": "python",
   "pygments_lexer": "ipython3",
   "version": "3.8.8"
  }
 },
 "nbformat": 4,
 "nbformat_minor": 4
}