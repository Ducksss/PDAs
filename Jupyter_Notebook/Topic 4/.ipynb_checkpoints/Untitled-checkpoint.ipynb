{
 "cells": [
  {
   "cell_type": "code",
   "execution_count": 1,
   "id": "47ac0827",
   "metadata": {},
   "outputs": [],
   "source": [
    "import pandas as pd\n",
    "import numpy as np\n"
   ]
  },
  {
   "cell_type": "code",
   "execution_count": 2,
   "id": "a9829473",
   "metadata": {},
   "outputs": [],
   "source": [
    "df = pd.read_csv('euro_winners.csv', sep=\",\")"
   ]
  },
  {
   "cell_type": "code",
   "execution_count": 3,
   "id": "243279d3",
   "metadata": {},
   "outputs": [
    {
     "data": {
      "text/html": [
       "<div>\n",
       "<style scoped>\n",
       "    .dataframe tbody tr th:only-of-type {\n",
       "        vertical-align: middle;\n",
       "    }\n",
       "\n",
       "    .dataframe tbody tr th {\n",
       "        vertical-align: top;\n",
       "    }\n",
       "\n",
       "    .dataframe thead th {\n",
       "        text-align: right;\n",
       "    }\n",
       "</style>\n",
       "<table border=\"1\" class=\"dataframe\">\n",
       "  <thead>\n",
       "    <tr style=\"text-align: right;\">\n",
       "      <th></th>\n",
       "      <th>Season</th>\n",
       "      <th>Nation</th>\n",
       "      <th>Winners</th>\n",
       "      <th>Score</th>\n",
       "      <th>Runners-up</th>\n",
       "      <th>Runner-UpNation</th>\n",
       "      <th>Venue</th>\n",
       "      <th>Attendance</th>\n",
       "    </tr>\n",
       "  </thead>\n",
       "  <tbody>\n",
       "    <tr>\n",
       "      <th>0</th>\n",
       "      <td>1955–56</td>\n",
       "      <td>Spain</td>\n",
       "      <td>Real Madrid</td>\n",
       "      <td>4–3</td>\n",
       "      <td>Stade de Reims</td>\n",
       "      <td>France</td>\n",
       "      <td>Parc des Princes,Paris</td>\n",
       "      <td>38239</td>\n",
       "    </tr>\n",
       "    <tr>\n",
       "      <th>1</th>\n",
       "      <td>1956–57</td>\n",
       "      <td>Spain</td>\n",
       "      <td>Real Madrid</td>\n",
       "      <td>2–0</td>\n",
       "      <td>Fiorentina</td>\n",
       "      <td>Italy</td>\n",
       "      <td>Santiago Bernabéu Stadium, Madrid</td>\n",
       "      <td>124000</td>\n",
       "    </tr>\n",
       "    <tr>\n",
       "      <th>2</th>\n",
       "      <td>1957–58</td>\n",
       "      <td>Spain</td>\n",
       "      <td>Real Madrid</td>\n",
       "      <td>3–2</td>\n",
       "      <td>Milan</td>\n",
       "      <td>Italy</td>\n",
       "      <td>Heysel Stadium,Brussels</td>\n",
       "      <td>67000</td>\n",
       "    </tr>\n",
       "    <tr>\n",
       "      <th>3</th>\n",
       "      <td>1958–59</td>\n",
       "      <td>Spain</td>\n",
       "      <td>Real Madrid</td>\n",
       "      <td>2–0</td>\n",
       "      <td>Stade de Reims</td>\n",
       "      <td>France</td>\n",
       "      <td>Neckarstadion,Stuttgart</td>\n",
       "      <td>72000</td>\n",
       "    </tr>\n",
       "    <tr>\n",
       "      <th>4</th>\n",
       "      <td>1959–60</td>\n",
       "      <td>Spain</td>\n",
       "      <td>Real Madrid</td>\n",
       "      <td>7–3</td>\n",
       "      <td>Eintracht Frankfurt</td>\n",
       "      <td>Germany</td>\n",
       "      <td>Hampden Park,Glasgow</td>\n",
       "      <td>127621</td>\n",
       "    </tr>\n",
       "  </tbody>\n",
       "</table>\n",
       "</div>"
      ],
      "text/plain": [
       "    Season Nation      Winners Score           Runners-up Runner-UpNation  \\\n",
       "0  1955–56  Spain  Real Madrid   4–3       Stade de Reims          France   \n",
       "1  1956–57  Spain  Real Madrid   2–0           Fiorentina           Italy   \n",
       "2  1957–58  Spain  Real Madrid   3–2                Milan           Italy   \n",
       "3  1958–59  Spain  Real Madrid   2–0       Stade de Reims          France   \n",
       "4  1959–60  Spain  Real Madrid   7–3  Eintracht Frankfurt         Germany   \n",
       "\n",
       "                               Venue  Attendance  \n",
       "0             Parc des Princes,Paris       38239  \n",
       "1  Santiago Bernabéu Stadium, Madrid      124000  \n",
       "2            Heysel Stadium,Brussels       67000  \n",
       "3            Neckarstadion,Stuttgart       72000  \n",
       "4               Hampden Park,Glasgow      127621  "
      ]
     },
     "execution_count": 3,
     "metadata": {},
     "output_type": "execute_result"
    }
   ],
   "source": [
    "df.head(5)\n"
   ]
  },
  {
   "cell_type": "code",
   "execution_count": 4,
   "id": "90691e44",
   "metadata": {},
   "outputs": [
    {
     "data": {
      "text/html": [
       "<div>\n",
       "<style scoped>\n",
       "    .dataframe tbody tr th:only-of-type {\n",
       "        vertical-align: middle;\n",
       "    }\n",
       "\n",
       "    .dataframe tbody tr th {\n",
       "        vertical-align: top;\n",
       "    }\n",
       "\n",
       "    .dataframe thead th {\n",
       "        text-align: right;\n",
       "    }\n",
       "</style>\n",
       "<table border=\"1\" class=\"dataframe\">\n",
       "  <thead>\n",
       "    <tr style=\"text-align: right;\">\n",
       "      <th></th>\n",
       "      <th>Season</th>\n",
       "      <th>Nation</th>\n",
       "      <th>Winners</th>\n",
       "      <th>Score</th>\n",
       "      <th>Runners-up</th>\n",
       "      <th>Runner-UpNation</th>\n",
       "      <th>Venue</th>\n",
       "      <th>Attendance</th>\n",
       "    </tr>\n",
       "  </thead>\n",
       "  <tbody>\n",
       "    <tr>\n",
       "      <th>55</th>\n",
       "      <td>2010–11</td>\n",
       "      <td>Spain</td>\n",
       "      <td>Barcelona</td>\n",
       "      <td>3–1</td>\n",
       "      <td>Manchester United</td>\n",
       "      <td>England</td>\n",
       "      <td>Wembley Stadium,London</td>\n",
       "      <td>87695</td>\n",
       "    </tr>\n",
       "    <tr>\n",
       "      <th>56</th>\n",
       "      <td>2011–12</td>\n",
       "      <td>England</td>\n",
       "      <td>Chelsea</td>\n",
       "      <td>1–1*[K]</td>\n",
       "      <td>Bayern Munich</td>\n",
       "      <td>Germany</td>\n",
       "      <td>Allianz Arena,Munich</td>\n",
       "      <td>62500</td>\n",
       "    </tr>\n",
       "    <tr>\n",
       "      <th>57</th>\n",
       "      <td>2012–13</td>\n",
       "      <td>Germany</td>\n",
       "      <td>Bayern Munich</td>\n",
       "      <td>2–1</td>\n",
       "      <td>Borussia Dortmund</td>\n",
       "      <td>Germany</td>\n",
       "      <td>Wembley Stadium,London</td>\n",
       "      <td>86298</td>\n",
       "    </tr>\n",
       "  </tbody>\n",
       "</table>\n",
       "</div>"
      ],
      "text/plain": [
       "     Season   Nation        Winners    Score         Runners-up  \\\n",
       "55  2010–11    Spain      Barcelona      3–1  Manchester United   \n",
       "56  2011–12  England        Chelsea  1–1*[K]      Bayern Munich   \n",
       "57  2012–13  Germany  Bayern Munich      2–1  Borussia Dortmund   \n",
       "\n",
       "   Runner-UpNation                   Venue  Attendance  \n",
       "55         England  Wembley Stadium,London       87695  \n",
       "56         Germany    Allianz Arena,Munich       62500  \n",
       "57         Germany  Wembley Stadium,London       86298  "
      ]
     },
     "execution_count": 4,
     "metadata": {},
     "output_type": "execute_result"
    }
   ],
   "source": [
    "df.tail(3)\n"
   ]
  },
  {
   "cell_type": "code",
   "execution_count": 5,
   "id": "f2182460",
   "metadata": {},
   "outputs": [
    {
     "name": "stdout",
     "output_type": "stream",
     "text": [
      "(58, 8)\n"
     ]
    }
   ],
   "source": [
    "# Count how many cols and rows loaded\n",
    "print(df.shape)\n"
   ]
  },
  {
   "cell_type": "code",
   "execution_count": 6,
   "id": "152ba433",
   "metadata": {},
   "outputs": [
    {
     "name": "stdout",
     "output_type": "stream",
     "text": [
      "Season             object\n",
      "Nation             object\n",
      "Winners            object\n",
      "Score              object\n",
      "Runners-up         object\n",
      "Runner-UpNation    object\n",
      "Venue              object\n",
      "Attendance          int64\n",
      "dtype: object\n"
     ]
    }
   ],
   "source": [
    "# Print out the columns and their datatypes\n",
    "print(df.dtypes)\n"
   ]
  },
  {
   "cell_type": "code",
   "execution_count": 7,
   "id": "2e93b0eb",
   "metadata": {},
   "outputs": [
    {
     "data": {
      "text/html": [
       "<div>\n",
       "<style scoped>\n",
       "    .dataframe tbody tr th:only-of-type {\n",
       "        vertical-align: middle;\n",
       "    }\n",
       "\n",
       "    .dataframe tbody tr th {\n",
       "        vertical-align: top;\n",
       "    }\n",
       "\n",
       "    .dataframe thead th {\n",
       "        text-align: right;\n",
       "    }\n",
       "</style>\n",
       "<table border=\"1\" class=\"dataframe\">\n",
       "  <thead>\n",
       "    <tr style=\"text-align: right;\">\n",
       "      <th></th>\n",
       "      <th>Season</th>\n",
       "      <th>Nation</th>\n",
       "      <th>Winners</th>\n",
       "      <th>Score</th>\n",
       "      <th>Runners-up</th>\n",
       "      <th>Runner-UpNation</th>\n",
       "      <th>Venue</th>\n",
       "      <th>Attendance</th>\n",
       "    </tr>\n",
       "  </thead>\n",
       "  <tbody>\n",
       "    <tr>\n",
       "      <th>1</th>\n",
       "      <td>1956–57</td>\n",
       "      <td>Spain</td>\n",
       "      <td>Real Madrid</td>\n",
       "      <td>2–0</td>\n",
       "      <td>Fiorentina</td>\n",
       "      <td>Italy</td>\n",
       "      <td>Santiago Bernabéu Stadium, Madrid</td>\n",
       "      <td>124000</td>\n",
       "    </tr>\n",
       "    <tr>\n",
       "      <th>4</th>\n",
       "      <td>1959–60</td>\n",
       "      <td>Spain</td>\n",
       "      <td>Real Madrid</td>\n",
       "      <td>7–3</td>\n",
       "      <td>Eintracht Frankfurt</td>\n",
       "      <td>Germany</td>\n",
       "      <td>Hampden Park,Glasgow</td>\n",
       "      <td>127621</td>\n",
       "    </tr>\n",
       "  </tbody>\n",
       "</table>\n",
       "</div>"
      ],
      "text/plain": [
       "    Season Nation      Winners Score           Runners-up Runner-UpNation  \\\n",
       "1  1956–57  Spain  Real Madrid   2–0           Fiorentina           Italy   \n",
       "4  1959–60  Spain  Real Madrid   7–3  Eintracht Frankfurt         Germany   \n",
       "\n",
       "                               Venue  Attendance  \n",
       "1  Santiago Bernabéu Stadium, Madrid      124000  \n",
       "4               Hampden Park,Glasgow      127621  "
      ]
     },
     "execution_count": 7,
     "metadata": {},
     "output_type": "execute_result"
    }
   ],
   "source": [
    "# Extract subsets of the dataset\n",
    "#  Extract only the three columns\n",
    "df[['Season', 'Nation', 'Winners']]\n",
    "#  Extract only rows with attendance more than 100,000\n",
    "df2 = df[df['Attendance'] > 100000]\n",
    "df2\n"
   ]
  },
  {
   "cell_type": "code",
   "execution_count": 8,
   "id": "412a9744",
   "metadata": {},
   "outputs": [
    {
     "data": {
      "text/html": [
       "<div>\n",
       "<style scoped>\n",
       "    .dataframe tbody tr th:only-of-type {\n",
       "        vertical-align: middle;\n",
       "    }\n",
       "\n",
       "    .dataframe tbody tr th {\n",
       "        vertical-align: top;\n",
       "    }\n",
       "\n",
       "    .dataframe thead th {\n",
       "        text-align: right;\n",
       "    }\n",
       "</style>\n",
       "<table border=\"1\" class=\"dataframe\">\n",
       "  <thead>\n",
       "    <tr style=\"text-align: right;\">\n",
       "      <th></th>\n",
       "      <th>Season</th>\n",
       "      <th>Nation</th>\n",
       "    </tr>\n",
       "  </thead>\n",
       "  <tbody>\n",
       "    <tr>\n",
       "      <th>0</th>\n",
       "      <td>1955–56</td>\n",
       "      <td>Spain</td>\n",
       "    </tr>\n",
       "    <tr>\n",
       "      <th>1</th>\n",
       "      <td>1956–57</td>\n",
       "      <td>Spain</td>\n",
       "    </tr>\n",
       "    <tr>\n",
       "      <th>2</th>\n",
       "      <td>1957–58</td>\n",
       "      <td>Spain</td>\n",
       "    </tr>\n",
       "    <tr>\n",
       "      <th>3</th>\n",
       "      <td>1958–59</td>\n",
       "      <td>Spain</td>\n",
       "    </tr>\n",
       "    <tr>\n",
       "      <th>4</th>\n",
       "      <td>1959–60</td>\n",
       "      <td>Spain</td>\n",
       "    </tr>\n",
       "    <tr>\n",
       "      <th>5</th>\n",
       "      <td>1960–61</td>\n",
       "      <td>Portugal</td>\n",
       "    </tr>\n",
       "    <tr>\n",
       "      <th>6</th>\n",
       "      <td>1961–62</td>\n",
       "      <td>Portugal</td>\n",
       "    </tr>\n",
       "    <tr>\n",
       "      <th>7</th>\n",
       "      <td>1962–63</td>\n",
       "      <td>Italy</td>\n",
       "    </tr>\n",
       "    <tr>\n",
       "      <th>8</th>\n",
       "      <td>1963–64</td>\n",
       "      <td>Italy</td>\n",
       "    </tr>\n",
       "    <tr>\n",
       "      <th>9</th>\n",
       "      <td>1964–65</td>\n",
       "      <td>Italy</td>\n",
       "    </tr>\n",
       "    <tr>\n",
       "      <th>10</th>\n",
       "      <td>1965–66</td>\n",
       "      <td>Spain</td>\n",
       "    </tr>\n",
       "    <tr>\n",
       "      <th>11</th>\n",
       "      <td>1966–67</td>\n",
       "      <td>Scotland</td>\n",
       "    </tr>\n",
       "    <tr>\n",
       "      <th>12</th>\n",
       "      <td>1967–68</td>\n",
       "      <td>England</td>\n",
       "    </tr>\n",
       "    <tr>\n",
       "      <th>13</th>\n",
       "      <td>1968–69</td>\n",
       "      <td>Italy</td>\n",
       "    </tr>\n",
       "    <tr>\n",
       "      <th>14</th>\n",
       "      <td>1969–70</td>\n",
       "      <td>Netherlands</td>\n",
       "    </tr>\n",
       "    <tr>\n",
       "      <th>15</th>\n",
       "      <td>1970–71</td>\n",
       "      <td>Netherlands</td>\n",
       "    </tr>\n",
       "    <tr>\n",
       "      <th>16</th>\n",
       "      <td>1971–72</td>\n",
       "      <td>Netherlands</td>\n",
       "    </tr>\n",
       "    <tr>\n",
       "      <th>17</th>\n",
       "      <td>1972–73</td>\n",
       "      <td>Netherlands</td>\n",
       "    </tr>\n",
       "    <tr>\n",
       "      <th>18</th>\n",
       "      <td>1973–74</td>\n",
       "      <td>Germany</td>\n",
       "    </tr>\n",
       "    <tr>\n",
       "      <th>19</th>\n",
       "      <td>1974–75</td>\n",
       "      <td>Germany</td>\n",
       "    </tr>\n",
       "    <tr>\n",
       "      <th>20</th>\n",
       "      <td>1975–76</td>\n",
       "      <td>Germany</td>\n",
       "    </tr>\n",
       "    <tr>\n",
       "      <th>21</th>\n",
       "      <td>1976–77</td>\n",
       "      <td>England</td>\n",
       "    </tr>\n",
       "    <tr>\n",
       "      <th>22</th>\n",
       "      <td>1977–78</td>\n",
       "      <td>England</td>\n",
       "    </tr>\n",
       "    <tr>\n",
       "      <th>23</th>\n",
       "      <td>1978–79</td>\n",
       "      <td>England</td>\n",
       "    </tr>\n",
       "    <tr>\n",
       "      <th>24</th>\n",
       "      <td>1979–80</td>\n",
       "      <td>England</td>\n",
       "    </tr>\n",
       "    <tr>\n",
       "      <th>25</th>\n",
       "      <td>1980–81</td>\n",
       "      <td>England</td>\n",
       "    </tr>\n",
       "    <tr>\n",
       "      <th>26</th>\n",
       "      <td>1981–82</td>\n",
       "      <td>England</td>\n",
       "    </tr>\n",
       "    <tr>\n",
       "      <th>27</th>\n",
       "      <td>1982–83</td>\n",
       "      <td>Germany</td>\n",
       "    </tr>\n",
       "    <tr>\n",
       "      <th>28</th>\n",
       "      <td>1983–84</td>\n",
       "      <td>England</td>\n",
       "    </tr>\n",
       "    <tr>\n",
       "      <th>29</th>\n",
       "      <td>1984–85</td>\n",
       "      <td>Italy</td>\n",
       "    </tr>\n",
       "    <tr>\n",
       "      <th>30</th>\n",
       "      <td>1985–86</td>\n",
       "      <td>Romania</td>\n",
       "    </tr>\n",
       "    <tr>\n",
       "      <th>31</th>\n",
       "      <td>1986–87</td>\n",
       "      <td>Portugal</td>\n",
       "    </tr>\n",
       "    <tr>\n",
       "      <th>32</th>\n",
       "      <td>1987–88</td>\n",
       "      <td>Netherlands</td>\n",
       "    </tr>\n",
       "    <tr>\n",
       "      <th>33</th>\n",
       "      <td>1988–89</td>\n",
       "      <td>Italy</td>\n",
       "    </tr>\n",
       "    <tr>\n",
       "      <th>34</th>\n",
       "      <td>1989–90</td>\n",
       "      <td>Italy</td>\n",
       "    </tr>\n",
       "    <tr>\n",
       "      <th>35</th>\n",
       "      <td>1990–91</td>\n",
       "      <td>Yugoslavia</td>\n",
       "    </tr>\n",
       "    <tr>\n",
       "      <th>36</th>\n",
       "      <td>1991–92</td>\n",
       "      <td>Spain</td>\n",
       "    </tr>\n",
       "    <tr>\n",
       "      <th>37</th>\n",
       "      <td>1992–93</td>\n",
       "      <td>France</td>\n",
       "    </tr>\n",
       "    <tr>\n",
       "      <th>38</th>\n",
       "      <td>1993–94</td>\n",
       "      <td>Italy</td>\n",
       "    </tr>\n",
       "    <tr>\n",
       "      <th>39</th>\n",
       "      <td>1994–95</td>\n",
       "      <td>Netherlands</td>\n",
       "    </tr>\n",
       "    <tr>\n",
       "      <th>40</th>\n",
       "      <td>1995–96</td>\n",
       "      <td>Italy</td>\n",
       "    </tr>\n",
       "    <tr>\n",
       "      <th>41</th>\n",
       "      <td>1996–97</td>\n",
       "      <td>Germany</td>\n",
       "    </tr>\n",
       "    <tr>\n",
       "      <th>42</th>\n",
       "      <td>1997–98</td>\n",
       "      <td>Spain</td>\n",
       "    </tr>\n",
       "    <tr>\n",
       "      <th>43</th>\n",
       "      <td>1998–99</td>\n",
       "      <td>England</td>\n",
       "    </tr>\n",
       "    <tr>\n",
       "      <th>44</th>\n",
       "      <td>1999–00</td>\n",
       "      <td>Spain</td>\n",
       "    </tr>\n",
       "    <tr>\n",
       "      <th>45</th>\n",
       "      <td>2000–01</td>\n",
       "      <td>Germany</td>\n",
       "    </tr>\n",
       "    <tr>\n",
       "      <th>46</th>\n",
       "      <td>2001–02</td>\n",
       "      <td>Spain</td>\n",
       "    </tr>\n",
       "    <tr>\n",
       "      <th>47</th>\n",
       "      <td>2002–03</td>\n",
       "      <td>Italy</td>\n",
       "    </tr>\n",
       "    <tr>\n",
       "      <th>48</th>\n",
       "      <td>2003–04</td>\n",
       "      <td>Portugal</td>\n",
       "    </tr>\n",
       "    <tr>\n",
       "      <th>49</th>\n",
       "      <td>2004–05</td>\n",
       "      <td>England</td>\n",
       "    </tr>\n",
       "    <tr>\n",
       "      <th>50</th>\n",
       "      <td>2005–06</td>\n",
       "      <td>Spain</td>\n",
       "    </tr>\n",
       "    <tr>\n",
       "      <th>51</th>\n",
       "      <td>2006–07</td>\n",
       "      <td>Italy</td>\n",
       "    </tr>\n",
       "    <tr>\n",
       "      <th>52</th>\n",
       "      <td>2007–08</td>\n",
       "      <td>England</td>\n",
       "    </tr>\n",
       "    <tr>\n",
       "      <th>53</th>\n",
       "      <td>2008–09</td>\n",
       "      <td>Spain</td>\n",
       "    </tr>\n",
       "    <tr>\n",
       "      <th>54</th>\n",
       "      <td>2009–10</td>\n",
       "      <td>Italy</td>\n",
       "    </tr>\n",
       "    <tr>\n",
       "      <th>55</th>\n",
       "      <td>2010–11</td>\n",
       "      <td>Spain</td>\n",
       "    </tr>\n",
       "    <tr>\n",
       "      <th>56</th>\n",
       "      <td>2011–12</td>\n",
       "      <td>England</td>\n",
       "    </tr>\n",
       "    <tr>\n",
       "      <th>57</th>\n",
       "      <td>2012–13</td>\n",
       "      <td>Germany</td>\n",
       "    </tr>\n",
       "  </tbody>\n",
       "</table>\n",
       "</div>"
      ],
      "text/plain": [
       "     Season       Nation\n",
       "0   1955–56        Spain\n",
       "1   1956–57        Spain\n",
       "2   1957–58        Spain\n",
       "3   1958–59        Spain\n",
       "4   1959–60        Spain\n",
       "5   1960–61     Portugal\n",
       "6   1961–62     Portugal\n",
       "7   1962–63        Italy\n",
       "8   1963–64        Italy\n",
       "9   1964–65        Italy\n",
       "10  1965–66        Spain\n",
       "11  1966–67     Scotland\n",
       "12  1967–68      England\n",
       "13  1968–69        Italy\n",
       "14  1969–70  Netherlands\n",
       "15  1970–71  Netherlands\n",
       "16  1971–72  Netherlands\n",
       "17  1972–73  Netherlands\n",
       "18  1973–74      Germany\n",
       "19  1974–75      Germany\n",
       "20  1975–76      Germany\n",
       "21  1976–77      England\n",
       "22  1977–78      England\n",
       "23  1978–79      England\n",
       "24  1979–80      England\n",
       "25  1980–81      England\n",
       "26  1981–82      England\n",
       "27  1982–83      Germany\n",
       "28  1983–84      England\n",
       "29  1984–85        Italy\n",
       "30  1985–86      Romania\n",
       "31  1986–87     Portugal\n",
       "32  1987–88  Netherlands\n",
       "33  1988–89        Italy\n",
       "34  1989–90        Italy\n",
       "35  1990–91   Yugoslavia\n",
       "36  1991–92        Spain\n",
       "37  1992–93       France\n",
       "38  1993–94        Italy\n",
       "39  1994–95  Netherlands\n",
       "40  1995–96        Italy\n",
       "41  1996–97      Germany\n",
       "42  1997–98        Spain\n",
       "43  1998–99      England\n",
       "44  1999–00        Spain\n",
       "45  2000–01      Germany\n",
       "46  2001–02        Spain\n",
       "47  2002–03        Italy\n",
       "48  2003–04     Portugal\n",
       "49  2004–05      England\n",
       "50  2005–06        Spain\n",
       "51  2006–07        Italy\n",
       "52  2007–08      England\n",
       "53  2008–09        Spain\n",
       "54  2009–10        Italy\n",
       "55  2010–11        Spain\n",
       "56  2011–12      England\n",
       "57  2012–13      Germany"
      ]
     },
     "execution_count": 8,
     "metadata": {},
     "output_type": "execute_result"
    }
   ],
   "source": [
    "df[df['Attendance'] > 10000][['Season', 'Nation']]\n"
   ]
  },
  {
   "cell_type": "code",
   "execution_count": 9,
   "id": "f86baef6",
   "metadata": {},
   "outputs": [],
   "source": [
    "#  Extract only rows with population more than 100 thousands\n",
    "df2 = df[df['Attendance'] > 100000]\n",
    "df2.to_csv('goodattendance.csv')"
   ]
  },
  {
   "cell_type": "markdown",
   "id": "518f39c1",
   "metadata": {},
   "source": [
    "# Practical"
   ]
  },
  {
   "cell_type": "markdown",
   "id": "0493c733",
   "metadata": {},
   "source": [
    "### Question 2"
   ]
  },
  {
   "cell_type": "code",
   "execution_count": 10,
   "id": "9de65a19",
   "metadata": {},
   "outputs": [
    {
     "name": "stdout",
     "output_type": "stream",
     "text": [
      "     Season       Nation\n",
      "0   1955–56        Spain\n",
      "1   1956–57        Spain\n",
      "2   1957–58        Spain\n",
      "3   1958–59        Spain\n",
      "4   1959–60        Spain\n",
      "5   1960–61     Portugal\n",
      "6   1961–62     Portugal\n",
      "7   1962–63        Italy\n",
      "8   1963–64        Italy\n",
      "9   1964–65        Italy\n",
      "10  1965–66        Spain\n",
      "11  1966–67     Scotland\n",
      "12  1967–68      England\n",
      "13  1968–69        Italy\n",
      "14  1969–70  Netherlands\n",
      "15  1970–71  Netherlands\n",
      "16  1971–72  Netherlands\n",
      "17  1972–73  Netherlands\n",
      "18  1973–74      Germany\n",
      "19  1974–75      Germany\n",
      "20  1975–76      Germany\n",
      "21  1976–77      England\n",
      "22  1977–78      England\n",
      "23  1978–79      England\n",
      "24  1979–80      England\n",
      "25  1980–81      England\n",
      "26  1981–82      England\n",
      "27  1982–83      Germany\n",
      "28  1983–84      England\n",
      "29  1984–85        Italy\n",
      "30  1985–86      Romania\n",
      "31  1986–87     Portugal\n",
      "32  1987–88  Netherlands\n",
      "33  1988–89        Italy\n",
      "34  1989–90        Italy\n",
      "35  1990–91   Yugoslavia\n",
      "36  1991–92        Spain\n",
      "37  1992–93       France\n",
      "38  1993–94        Italy\n",
      "39  1994–95  Netherlands\n",
      "40  1995–96        Italy\n",
      "41  1996–97      Germany\n",
      "42  1997–98        Spain\n",
      "43  1998–99      England\n",
      "44  1999–00        Spain\n",
      "45  2000–01      Germany\n",
      "46  2001–02        Spain\n",
      "47  2002–03        Italy\n",
      "48  2003–04     Portugal\n",
      "49  2004–05      England\n",
      "50  2005–06        Spain\n",
      "51  2006–07        Italy\n",
      "52  2007–08      England\n",
      "53  2008–09        Spain\n",
      "54  2009–10        Italy\n",
      "55  2010–11        Spain\n",
      "56  2011–12      England\n",
      "57  2012–13      Germany\n"
     ]
    }
   ],
   "source": [
    "ser = df[df['Attendance'] > 10000][['Season', 'Nation']]\n",
    "print(ser)"
   ]
  },
  {
   "cell_type": "code",
   "execution_count": 11,
   "id": "5cd00fb5",
   "metadata": {},
   "outputs": [
    {
     "name": "stdout",
     "output_type": "stream",
     "text": [
      "a    1.0\n",
      "b    3.0\n",
      "c    5.0\n",
      "d    NaN\n",
      "e    6.0\n",
      "f    8.0\n",
      "dtype: float64\n"
     ]
    }
   ],
   "source": [
    "ser = pd.Series([1, 3, 5, None, 6, 8], index=['a', 'b', 'c', 'd', 'e', 'f'])\n",
    "print(ser)\n"
   ]
  },
  {
   "cell_type": "code",
   "execution_count": 12,
   "id": "5a80eb60",
   "metadata": {},
   "outputs": [
    {
     "ename": "IndentationError",
     "evalue": "unexpected indent (<ipython-input-12-772945028b28>, line 3)",
     "output_type": "error",
     "traceback": [
      "\u001b[1;36m  File \u001b[1;32m\"<ipython-input-12-772945028b28>\"\u001b[1;36m, line \u001b[1;32m3\u001b[0m\n\u001b[1;33m    'Malaysia':'Hibiscus rosa-sinensis',\u001b[0m\n\u001b[1;37m    ^\u001b[0m\n\u001b[1;31mIndentationError\u001b[0m\u001b[1;31m:\u001b[0m unexpected indent\n"
     ]
    }
   ],
   "source": [
    "ser = pd.Series([1, 3, 5, None, 6, 8], index=np.arange(0, 6))\n",
    "print(ser)\n",
    "    'Malaysia':'Hibiscus rosa-sinensis',\n",
    "    'Philippines':'Sampaguita', \n",
    "    'Singapore':'Vanda Miss Joaquim'\n",
    "}\n",
    "\n",
    "flowerSeries = pd.Series(flowerDict)\n",
    "print(flowerSeries)\n",
    "\n",
    "# the index will be the countries, such as Indonesia, Malaysoa, Philippines, and Singapore"
   ]
  },
  {
   "cell_type": "code",
   "execution_count": null,
   "id": "8f057fb5",
   "metadata": {},
   "outputs": [],
   "source": [
    "timeSeries = pd.date_range(start='10/1/2017', end='2017-10-15')\n",
    "print(timeSeries)\n"
   ]
  },
  {
   "cell_type": "markdown",
   "id": "85b99de8",
   "metadata": {},
   "source": [
    "### Question 3"
   ]
  },
  {
   "cell_type": "code",
   "execution_count": null,
   "id": "b1ee0fd5",
   "metadata": {},
   "outputs": [],
   "source": [
    "data = np.random.randint(100, 200, (5, 5))\n",
    "df = pd.DataFrame(data)\n",
    "print(df)\n",
    "print(type(df))"
   ]
  },
  {
   "cell_type": "code",
   "execution_count": null,
   "id": "6af8d7e6",
   "metadata": {},
   "outputs": [],
   "source": [
    "df2 = pd.DataFrame(data, columns=['Team 1', 'Team 2', 'Team 3', 'Team 4', 'Team 5'], index=['Game 1', 'Game 2', 'Game 3', 'Game 4', 'Game 5'])\n",
    "print(timeSeries)\n",
    "print(type(df2))"
   ]
  },
  {
   "cell_type": "code",
   "execution_count": null,
   "id": "5fad3923",
   "metadata": {},
   "outputs": [],
   "source": [
    "uni_graduates = {\n",
    "    2010: {'Females': 6300, 'Males': 6496}, 2011: {'Females': 7281, 'Males': 6428},\n",
    "    2012: {'Females': 7114, 'Males': 6736}, 2013: {'Females': 8170, 'Males': 7785},\n",
    "    2014: {'Females': 7620, 'Males': 7756}\n",
    "}\n",
    "\n",
    "df = pd.DataFrame(uni_graduates)\n",
    "print(df)\n",
    "print(type(df))\n"
   ]
  },
  {
   "cell_type": "code",
   "execution_count": null,
   "id": "16fa946a",
   "metadata": {},
   "outputs": [],
   "source": [
    "df2 = pd.DataFrame(data, columns=['Team 1', 'Team 2', 'Team 3', 'Team 4', 'Team 5'], index=[\n",
    "                   'Game 1', 'Game 2', 'Game 3', 'Game 4', 'Game 5'])\n",
    "'BA' : [3000,3000,3000],\n",
    "print(type(df2))\n",
    "'BA (Accountancy)' : [2700,2838,2850],\n",
    "'BA (Accountancy) (Honours)' : [2800,2912,3000]\n",
    "}\n",
    "\n",
    "df = pd.DataFrame(nus_median_gross_pay_2013to2015, index=['2013', '2014', '2015'])\n",
    "print(df)\n",
    "print(type(df))"
   ]
  },
  {
   "cell_type": "code",
   "execution_count": null,
   "id": "81c5f031",
   "metadata": {},
   "outputs": [],
   "source": [
    "jan = pd.date_range('20170101', periods=31)\n",
    "mar = pd.date_range('20170301', periods=31)\n",
    "may = pd.date_range('20170501', periods=31)\n",
    "jul = pd.date_range('20170701', periods=31)\n",
    "aug = pd.date_range('20170801', periods=31)\n",
    "oct = pd.date_range('20171001', periods=31)\n",
    "dec = pd.date_range('20171201', periods=31)\n",
    "\n",
    "monthswith31days = {\"Jan\": jan, \"Mar\": mar, \"May\": may,\n",
    "                    \"Jul\": jul, \"Aug\": aug, \"Oct\": oct, \"Dec\": dec}\n",
    "\n",
    "df = pd.DataFrame(monthswith31days)\n",
    "print(df)\n",
    "print(type(df))\n"
   ]
  },
  {
   "cell_type": "code",
   "execution_count": null,
   "id": "ffd5dd04",
   "metadata": {},
   "outputs": [],
   "source": [
    "npArray = np.random.randn(6, 4)\n",
    "timeSeries = pd.date_range(start='01-01-2013', end='01-06-2013')\n",
    "\n",
    "df = pd.DataFrame(npArray, columns=['A', 'B', 'C', 'D'], index=timeSeries)\n",
    "print(df)\n"
   ]
  },
  {
   "cell_type": "markdown",
   "id": "913dba9f",
   "metadata": {},
   "source": [
    "### Question 4"
   ]
  },
  {
   "cell_type": "code",
   "execution_count": null,
   "id": "d6e68411",
   "metadata": {},
   "outputs": [],
   "source": [
    "npArray = np.random.rand(1000)\n",
    "myseries = pd.Series(npArray)\n",
    "myseries\n"
   ]
  },
  {
   "cell_type": "code",
   "execution_count": null,
   "id": "cbe3ef6d",
   "metadata": {},
   "outputs": [],
   "source": [
    "npArray = np.random.randn(6, 4)\n",
    "colB = np.random.randint(0, 1, 1000)\n",
    "colC = np.arange(0,1000)\n",
    "df = pd.DataFrame(npArray, columns=['A', 'B', 'C', 'D'], index=timeSeries)\n",
    "print(df)\n",
    "\n",
    "mydf = pd.DataFrame(overAll)\n",
    "mydf "
   ]
  },
  {
   "cell_type": "code",
   "execution_count": null,
   "id": "38db3f23",
   "metadata": {},
   "outputs": [],
   "source": [
    "print(myseries.shape)\n",
    "myseries = pd.Series(npArray)\n",
    "myseries\n",
    "print(myseries.count())\n",
    "print(myseries.describe())"
   ]
  },
  {
   "cell_type": "code",
   "execution_count": null,
   "id": "56f027e9",
   "metadata": {},
   "outputs": [],
   "source": [
    "print(mydf.shape)\n",
    "print(mydf.index)\n",
    "print(mydf.values)\n",
    "print(mydf.count())\n",
    "print(mydf.describe())"
   ]
  },
  {
   "cell_type": "code",
   "execution_count": null,
   "id": "1db2482f",
   "metadata": {},
   "outputs": [],
   "source": [
    "print(mydf.info())"
   ]
  },
  {
   "cell_type": "code",
   "execution_count": null,
   "id": "aa0d089a",
   "metadata": {},
   "outputs": [],
   "source": [
    "df = pd.read_csv('euro_winners.csv', sep=',')\n",
    "print(df.columns)"
   ]
  },
  {
   "cell_type": "code",
   "execution_count": null,
   "id": "97365f44",
   "metadata": {},
   "outputs": [],
   "source": [
    "print(mydf.info())\n",
    "df2 = df.Season\n",
    "\n",
    "df3 = df[['Season', 'Winners', 'Score']]\n",
    "df4 = df.loc[:, 'Season':'Winners']"
   ]
  },
  {
   "cell_type": "code",
   "execution_count": null,
   "id": "4da63a70",
   "metadata": {},
   "outputs": [],
   "source": [
    "print(df4)\n"
   ]
  },
  {
   "cell_type": "markdown",
   "id": "6ebafd50",
   "metadata": {},
   "source": [
    "### Q6"
   ]
  },
  {
   "cell_type": "code",
   "execution_count": null,
   "id": "9e704913",
   "metadata": {},
   "outputs": [],
   "source": [
    "mydf = pd.read_excel('singstats_maritalstatus.xlsx', index_col='Variables')\n",
    "print(mydf.columns)"
   ]
  },
  {
   "cell_type": "code",
   "execution_count": null,
   "id": "1d98766c",
   "metadata": {},
   "outputs": [],
   "source": [
    "print(df4)\n",
    "print(mydf['1986'])"
   ]
  },
  {
   "cell_type": "code",
   "execution_count": null,
   "id": "85b83c29",
   "metadata": {},
   "outputs": [],
   "source": [
    "print(3*\"*\" + \"All of 1980s\" + 3*\"*\")\n",
    "mydf.loc[:, '1980':'1989']\n"
   ]
  },
  {
   "cell_type": "code",
   "execution_count": null,
   "id": "68eb77a1",
   "metadata": {},
   "outputs": [],
   "source": [
    "df1 = df.iloc[:, 1]\n",
    "df1\n"
   ]
  },
  {
   "cell_type": "code",
   "execution_count": null,
   "id": "3a44ed13",
   "metadata": {},
   "outputs": [],
   "source": [
    "df2 = df.iloc[0:, [0, -1]]\n",
    "df_last5cols = mydf.iloc[:, [5, 6, 7, 8, 9]]\n"
   ]
  },
  {
   "cell_type": "code",
   "execution_count": null,
   "id": "8916a68e",
   "metadata": {},
   "outputs": [],
   "source": [
    "df2 = df.iloc[:, 0:3]\n",
    "df2\n"
   ]
  },
  {
   "cell_type": "code",
   "execution_count": null,
   "id": "d8f0db68",
   "metadata": {},
   "outputs": [],
   "source": [
    "df"
   ]
  },
  {
   "cell_type": "code",
   "execution_count": null,
   "id": "1fdd5fdf",
   "metadata": {},
   "outputs": [],
   "source": [
    "mydf = pd.read_excel('singstats_maritalstatus_2006_to_2016.xlsx', index_col='Variables')\n",
    "print(mydf.columns)"
   ]
  },
  {
   "cell_type": "code",
   "execution_count": null,
   "id": "93e2df33",
   "metadata": {},
   "outputs": [],
   "source": [
    "print(\"*** Index 1,2,3 ***\")\n",
    "df_index123 = mydf.iloc[:, [1, 2, 3]]\n",
    "print(df_index123)\n"
   ]
  },
  {
   "cell_type": "code",
   "execution_count": null,
   "id": "66e61eaf",
   "metadata": {},
   "outputs": [],
   "source": [
    "print(\"*** Last 5 cols ***\")\n",
    "df_last5cols = mydf.iloc[:, len(mydf.columns) -5: len(mydf.columns)]\n",
    "print(df_last5cols)"
   ]
  },
  {
   "cell_type": "code",
   "execution_count": null,
   "id": "09bd75cb",
   "metadata": {},
   "outputs": [],
   "source": [
    "df = pd.read_excel('singstats_maritalstatus.xlsx', index_col='Variables')\n",
    "mydf = df['1980']\n",
    "\n",
    "# moreThan = 0\n",
    "# lessThan = 0\n",
    "# for i in range(len(mydf)):\n",
    "#     if(mydf[i] >= 500000):\n",
    "#         moreThan = moreThan + 1\n",
    "#     else:\n",
    "#         lessThan = lessThan + 1\n",
    "\n",
    "mask1 = df['1980'] > 500000\n",
    "mask2 = df['1980'] < 500000\n",
    "\n",
    "print(mydf)\n",
    "print(f\"\\nNumber of rows more than 500k is {mask1.sum()}\")\n",
    "print(f\"Number of rows less than 500k is {mask2.sum()}\")\n"
   ]
  },
  {
   "cell_type": "code",
   "execution_count": 59,
   "id": "0c8f0f64",
   "metadata": {},
   "outputs": [
    {
     "data": {
      "text/plain": [
       "<AxesSubplot:xlabel='month'>"
      ]
     },
     "execution_count": 59,
     "metadata": {},
     "output_type": "execute_result"
    },
    {
     "data": {
      "image/png": "[encoded data removed]",
      "text/plain": [
       "<Figure size 432x288 with 1 Axes>"
      ]
     },
     "metadata": {
      "needs_background": "light"
     },
     "output_type": "display_data"
    }
   ],
   "source": [
    "df_rainfall = pd.read_csv('rainfall-monthly-total.csv', sep=',', index_col='month')\n",
    "df_rainfall.loc['1982-01':'1982-12'].plot()"
   ]
  },
  {
   "cell_type": "code",
   "execution_count": 60,
   "id": "249ab7c1",
   "metadata": {},
   "outputs": [
    {
     "data": {
      "text/plain": [
       "<AxesSubplot:xlabel='month'>"
      ]
     },
     "execution_count": 60,
     "metadata": {},
     "output_type": "execute_result"
    },
    {
     "data": {
      "image/png": "[encoded data removed]",
      "text/plain": [
       "<Figure size 432x288 with 1 Axes>"
      ]
     },
     "metadata": {
      "needs_background": "light"
     },
     "output_type": "display_data"
    }
   ],
   "source": [
    "df_rainfall = pd.read_csv('rainfall-monthly-total.csv', sep=',', index_col='month')\n",
    "df_rainfall.iloc [-12:].plot()"
   ]
  },
  {
   "cell_type": "code",
   "execution_count": 64,
   "id": "0946ac3f",
   "metadata": {},
   "outputs": [
    {
     "data": {
      "text/plain": [
       "<AxesSubplot:xlabel='month'>"
      ]
     },
     "execution_count": 64,
     "metadata": {},
     "output_type": "execute_result"
    },
    {
     "data": {
      "image/png": "[encoded data removed]",
      "text/plain": [
       "<Figure size 432x288 with 1 Axes>"
      ]
     },
     "metadata": {
      "needs_background": "light"
     },
     "output_type": "display_data"
    }
   ],
   "source": [
    "df_rainfall[df_rainfall['total_rainfall'] > 300].sort_values('total_rainfall',ascending=False).iloc[0:12].plot.bar()"
   ]
  },
  {
   "cell_type": "code",
   "execution_count": 57,
   "id": "a7c77a50",
   "metadata": {},
   "outputs": [
    {
     "data": {
      "text/plain": [
       "<AxesSubplot:xlabel='month'>"
      ]
     },
     "execution_count": 57,
     "metadata": {},
     "output_type": "execute_result"
    },
    {
     "data": {
      "image/png": "[encoded data removed]",
      "text/plain": [
       "<Figure size 432x288 with 1 Axes>"
      ]
     },
     "metadata": {
      "needs_background": "light"
     },
     "output_type": "display_data"
    }
   ],
   "source": [
    "df_rainfall = pd.read_csv('rainfall-monthly-total-withduplicates.csv', index_col=\"month\")\n",
    "df_rainfall.drop_duplicates\n",
    "df_rainfall.sort_values('total_rainfall', ascending=False).plot.bar()"
   ]
  },
  {
   "cell_type": "code",
   "execution_count": 78,
   "id": "e276361c",
   "metadata": {},
   "outputs": [
    {
     "data": {
      "text/html": [
       "<div>\n",
       "<style scoped>\n",
       "    .dataframe tbody tr th:only-of-type {\n",
       "        vertical-align: middle;\n",
       "    }\n",
       "\n",
       "    .dataframe tbody tr th {\n",
       "        vertical-align: top;\n",
       "    }\n",
       "\n",
       "    .dataframe thead th {\n",
       "        text-align: right;\n",
       "    }\n",
       "</style>\n",
       "<table border=\"1\" class=\"dataframe\">\n",
       "  <thead>\n",
       "    <tr style=\"text-align: right;\">\n",
       "      <th></th>\n",
       "      <th>year</th>\n",
       "      <th>university</th>\n",
       "      <th>degree</th>\n",
       "      <th>gross_monthly_mean</th>\n",
       "      <th>gross_monthly_median</th>\n",
       "    </tr>\n",
       "  </thead>\n",
       "  <tbody>\n",
       "    <tr>\n",
       "      <th>0</th>\n",
       "      <td>2013</td>\n",
       "      <td>Nanyang Technological University</td>\n",
       "      <td>Accountancy and Business</td>\n",
       "      <td>3727</td>\n",
       "      <td>3350</td>\n",
       "    </tr>\n",
       "    <tr>\n",
       "      <th>1</th>\n",
       "      <td>2013</td>\n",
       "      <td>Nanyang Technological University</td>\n",
       "      <td>Accountancy (3-yr direct Honours Programme)</td>\n",
       "      <td>2938</td>\n",
       "      <td>2700</td>\n",
       "    </tr>\n",
       "    <tr>\n",
       "      <th>2</th>\n",
       "      <td>2013</td>\n",
       "      <td>Nanyang Technological University</td>\n",
       "      <td>Business (3-yr direct Honours Programme)</td>\n",
       "      <td>3214</td>\n",
       "      <td>3000</td>\n",
       "    </tr>\n",
       "    <tr>\n",
       "      <th>3</th>\n",
       "      <td>2013</td>\n",
       "      <td>Nanyang Technological University</td>\n",
       "      <td>Business and Computing</td>\n",
       "      <td>3615</td>\n",
       "      <td>3400</td>\n",
       "    </tr>\n",
       "    <tr>\n",
       "      <th>4</th>\n",
       "      <td>2013</td>\n",
       "      <td>Nanyang Technological University</td>\n",
       "      <td>Aerospace Engineering</td>\n",
       "      <td>3536</td>\n",
       "      <td>3500</td>\n",
       "    </tr>\n",
       "    <tr>\n",
       "      <th>...</th>\n",
       "      <td>...</td>\n",
       "      <td>...</td>\n",
       "      <td>...</td>\n",
       "      <td>...</td>\n",
       "      <td>...</td>\n",
       "    </tr>\n",
       "    <tr>\n",
       "      <th>284</th>\n",
       "      <td>2015</td>\n",
       "      <td>Singapore Management University</td>\n",
       "      <td>Law Cum Laude and above</td>\n",
       "      <td>5313</td>\n",
       "      <td>5000</td>\n",
       "    </tr>\n",
       "    <tr>\n",
       "      <th>285</th>\n",
       "      <td>2015</td>\n",
       "      <td>Singapore University of Technology and Design</td>\n",
       "      <td>Bachelor of Engineering (Engineering Product D...</td>\n",
       "      <td>3565</td>\n",
       "      <td>3600</td>\n",
       "    </tr>\n",
       "    <tr>\n",
       "      <th>286</th>\n",
       "      <td>2015</td>\n",
       "      <td>Singapore University of Technology and Design</td>\n",
       "      <td>Bachelor of Engineering (Engineering Systems a...</td>\n",
       "      <td>3763</td>\n",
       "      <td>3500</td>\n",
       "    </tr>\n",
       "    <tr>\n",
       "      <th>287</th>\n",
       "      <td>2015</td>\n",
       "      <td>Singapore University of Technology and Design</td>\n",
       "      <td>Bachelor of Engineering (Information Systems T...</td>\n",
       "      <td>3952</td>\n",
       "      <td>3950</td>\n",
       "    </tr>\n",
       "    <tr>\n",
       "      <th>288</th>\n",
       "      <td>2015</td>\n",
       "      <td>Singapore University of Technology and Design</td>\n",
       "      <td>Bachelor of Science (Architecture and Sustaina...</td>\n",
       "      <td>na</td>\n",
       "      <td>na</td>\n",
       "    </tr>\n",
       "  </tbody>\n",
       "</table>\n",
       "<p>289 rows × 5 columns</p>\n",
       "</div>"
      ],
      "text/plain": [
       "     year                                     university  \\\n",
       "0    2013               Nanyang Technological University   \n",
       "1    2013               Nanyang Technological University   \n",
       "2    2013               Nanyang Technological University   \n",
       "3    2013               Nanyang Technological University   \n",
       "4    2013               Nanyang Technological University   \n",
       "..    ...                                            ...   \n",
       "284  2015                Singapore Management University   \n",
       "285  2015  Singapore University of Technology and Design   \n",
       "286  2015  Singapore University of Technology and Design   \n",
       "287  2015  Singapore University of Technology and Design   \n",
       "288  2015  Singapore University of Technology and Design   \n",
       "\n",
       "                                                degree gross_monthly_mean  \\\n",
       "0                             Accountancy and Business               3727   \n",
       "1          Accountancy (3-yr direct Honours Programme)               2938   \n",
       "2             Business (3-yr direct Honours Programme)               3214   \n",
       "3                               Business and Computing               3615   \n",
       "4                                Aerospace Engineering               3536   \n",
       "..                                                 ...                ...   \n",
       "284                            Law Cum Laude and above               5313   \n",
       "285  Bachelor of Engineering (Engineering Product D...               3565   \n",
       "286  Bachelor of Engineering (Engineering Systems a...               3763   \n",
       "287  Bachelor of Engineering (Information Systems T...               3952   \n",
       "288  Bachelor of Science (Architecture and Sustaina...                 na   \n",
       "\n",
       "    gross_monthly_median  \n",
       "0                   3350  \n",
       "1                   2700  \n",
       "2                   3000  \n",
       "3                   3400  \n",
       "4                   3500  \n",
       "..                   ...  \n",
       "284                 5000  \n",
       "285                 3600  \n",
       "286                 3500  \n",
       "287                 3950  \n",
       "288                   na  \n",
       "\n",
       "[289 rows x 5 columns]"
      ]
     },
     "execution_count": 78,
     "metadata": {},
     "output_type": "execute_result"
    }
   ],
   "source": [
    "df = pd.read_csv('graduate-employment-survey-ntu-nus-sit-smu-sutd-utf8.csv')\n",
    "df.drop([\"school\", \"employment_rate_overall\", \"employment_rate_permanent\", \"basic_monthly_mean\", \"basic_monthly_median\", \"gross_mthly_25_percentile\", \"gross_mthly_75_percentile\"], axis=1)"
   ]
  },
  {
   "cell_type": "code",
   "execution_count": 82,
   "id": "edd194a4",
   "metadata": {},
   "outputs": [
    {
     "ename": "ValueError",
     "evalue": "Need to specify at least one of 'labels', 'index' or 'columns'",
     "output_type": "error",
     "traceback": [
      "\u001b[1;31m---------------------------------------------------------------------------\u001b[0m",
      "\u001b[1;31mValueError\u001b[0m                                Traceback (most recent call last)",
      "\u001b[1;32m<ipython-input-82-281c2935ca0f>\u001b[0m in \u001b[0;36m<module>\u001b[1;34m\u001b[0m\n\u001b[1;32m----> 1\u001b[1;33m \u001b[0mdf\u001b[0m\u001b[1;33m[\u001b[0m\u001b[0mdf\u001b[0m\u001b[1;33m[\u001b[0m\u001b[1;34m'university'\u001b[0m\u001b[1;33m]\u001b[0m \u001b[1;33m==\u001b[0m \u001b[1;34m\"Nanyang Technological University\"\u001b[0m\u001b[1;33m]\u001b[0m\u001b[1;33m.\u001b[0m\u001b[0mdrop\u001b[0m\u001b[1;33m(\u001b[0m\u001b[1;33m)\u001b[0m\u001b[1;33m\u001b[0m\u001b[1;33m\u001b[0m\u001b[0m\n\u001b[0m",
      "\u001b[1;32m~\\anaconda3\\lib\\site-packages\\pandas\\core\\frame.py\u001b[0m in \u001b[0;36mdrop\u001b[1;34m(self, labels, axis, index, columns, level, inplace, errors)\u001b[0m\n\u001b[0;32m   4306\u001b[0m                 \u001b[0mweight\u001b[0m  \u001b[1;36m1.0\u001b[0m     \u001b[1;36m0.8\u001b[0m\u001b[1;33m\u001b[0m\u001b[1;33m\u001b[0m\u001b[0m\n\u001b[0;32m   4307\u001b[0m         \"\"\"\n\u001b[1;32m-> 4308\u001b[1;33m         return super().drop(\n\u001b[0m\u001b[0;32m   4309\u001b[0m             \u001b[0mlabels\u001b[0m\u001b[1;33m=\u001b[0m\u001b[0mlabels\u001b[0m\u001b[1;33m,\u001b[0m\u001b[1;33m\u001b[0m\u001b[1;33m\u001b[0m\u001b[0m\n\u001b[0;32m   4310\u001b[0m             \u001b[0maxis\u001b[0m\u001b[1;33m=\u001b[0m\u001b[0maxis\u001b[0m\u001b[1;33m,\u001b[0m\u001b[1;33m\u001b[0m\u001b[1;33m\u001b[0m\u001b[0m\n",
      "\u001b[1;32m~\\anaconda3\\lib\\site-packages\\pandas\\core\\generic.py\u001b[0m in \u001b[0;36mdrop\u001b[1;34m(self, labels, axis, index, columns, level, inplace, errors)\u001b[0m\n\u001b[0;32m   4143\u001b[0m             \u001b[0maxes\u001b[0m\u001b[1;33m,\u001b[0m \u001b[0m_\u001b[0m \u001b[1;33m=\u001b[0m \u001b[0mself\u001b[0m\u001b[1;33m.\u001b[0m\u001b[0m_construct_axes_from_arguments\u001b[0m\u001b[1;33m(\u001b[0m\u001b[1;33m(\u001b[0m\u001b[0mindex\u001b[0m\u001b[1;33m,\u001b[0m \u001b[0mcolumns\u001b[0m\u001b[1;33m)\u001b[0m\u001b[1;33m,\u001b[0m \u001b[1;33m{\u001b[0m\u001b[1;33m}\u001b[0m\u001b[1;33m)\u001b[0m\u001b[1;33m\u001b[0m\u001b[1;33m\u001b[0m\u001b[0m\n\u001b[0;32m   4144\u001b[0m         \u001b[1;32melse\u001b[0m\u001b[1;33m:\u001b[0m\u001b[1;33m\u001b[0m\u001b[1;33m\u001b[0m\u001b[0m\n\u001b[1;32m-> 4145\u001b[1;33m             raise ValueError(\n\u001b[0m\u001b[0;32m   4146\u001b[0m                 \u001b[1;34m\"Need to specify at least one of 'labels', 'index' or 'columns'\"\u001b[0m\u001b[1;33m\u001b[0m\u001b[1;33m\u001b[0m\u001b[0m\n\u001b[0;32m   4147\u001b[0m             )\n",
      "\u001b[1;31mValueError\u001b[0m: Need to specify at least one of 'labels', 'index' or 'columns'"
     ]
    }
   ],
   "source": [
    "df[df['university'] == \"Nanyang Technological University\"].drop()"
   ]
  },
  {
   "cell_type": "code",
   "execution_count": null,
   "id": "27783026",
   "metadata": {},
   "outputs": [],
   "source": []
  }
 ],
 "metadata": {
  "interpreter": {
   "hash": "61617e5d05df81587ed298e3e8d11971f129076e23649412da1e0d0e94a2581e"
  },
  "kernelspec": {
   "display_name": "Python 3",
   "language": "python",
   "name": "python3"
  },
  "language_info": {
   "codemirror_mode": {
    "name": "ipython",
    "version": 3
   },
   "file_extension": ".py",
   "mimetype": "text/x-python",
   "name": "python",
   "nbconvert_exporter": "python",
   "pygments_lexer": "ipython3",
   "version": "3.8.8"
  }
 },
 "nbformat": 4,
 "nbformat_minor": 5
}
